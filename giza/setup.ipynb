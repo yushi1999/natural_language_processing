{
 "cells": [
  {
   "cell_type": "code",
   "execution_count": 2,
   "metadata": {},
   "outputs": [
    {
     "name": "stdout",
     "output_type": "stream",
     "text": [
      "--2022-06-27 20:10:30--  http://giza-pp.googlecode.com/files/giza-pp-v1.0.7.tar.gz\n",
      "giza-pp.googlecode.com (giza-pp.googlecode.com) をDNSに問いあわせています... 142.251.8.82\n",
      "giza-pp.googlecode.com (giza-pp.googlecode.com)|142.251.8.82|:80 に接続しています... 接続しました。\n",
      "HTTP による接続要求を送信しました、応答を待っています... 404 Not Found\n",
      "2022-06-27 20:10:30 エラー 404: Not Found。\n",
      "\n",
      "tar: Error opening archive: Failed to open 'giza-pp-v1.0.7.tar.gz'\n",
      "zsh:cd:1: no such file or directory: giza-pp\n",
      "make: *** No targets specified and no makefile found.  Stop.\n",
      "zsh:cd:1: no such file or directory: GIZA++-v2\n"
     ]
    }
   ],
   "source": [
    "!wget http://giza-pp.googlecode.com/files/giza-pp-v1.0.7.tar.gz\n",
    "!tar xfz giza-pp-v1.0.7.tar.gz\n",
    "!cd giza-pp\n",
    "!make\n",
    "!cd GIZA++-v2"
   ]
  },
  {
   "cell_type": "code",
   "execution_count": 4,
   "metadata": {},
   "outputs": [
    {
     "name": "stdout",
     "output_type": "stream",
     "text": [
      "Cloning into 'giza-pp'...\n",
      "remote: Enumerating objects: 301, done.\u001b[K\n",
      "remote: Total 301 (delta 0), reused 0 (delta 0), pack-reused 301\u001b[K\n",
      "Receiving objects: 100% (301/301), 259.42 KiB | 1.64 MiB/s, done.\n",
      "Resolving deltas: 100% (207/207), done.\n"
     ]
    }
   ],
   "source": [
    "!git clone https://github.com/moses-smt/giza-pp.git"
   ]
  },
  {
   "cell_type": "code",
   "execution_count": null,
   "metadata": {},
   "outputs": [],
   "source": []
  }
 ],
 "metadata": {
  "kernelspec": {
   "display_name": "Python 3.9.12 64-bit",
   "language": "python",
   "name": "python3"
  },
  "language_info": {
   "codemirror_mode": {
    "name": "ipython",
    "version": 3
   },
   "file_extension": ".py",
   "mimetype": "text/x-python",
   "name": "python",
   "nbconvert_exporter": "python",
   "pygments_lexer": "ipython3",
   "version": "3.9.12"
  },
  "orig_nbformat": 4,
  "vscode": {
   "interpreter": {
    "hash": "b0fa6594d8f4cbf19f97940f81e996739fb7646882a419484c72d19e05852a7e"
   }
  }
 },
 "nbformat": 4,
 "nbformat_minor": 2
}
