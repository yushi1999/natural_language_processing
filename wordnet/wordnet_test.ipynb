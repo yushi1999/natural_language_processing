{
 "cells": [
  {
   "cell_type": "markdown",
   "metadata": {},
   "source": [
    "https://starpentagon.net/analytics/hypernyms_of_wordnet_id/"
   ]
  },
  {
   "cell_type": "code",
   "execution_count": null,
   "metadata": {},
   "outputs": [],
   "source": [
    "import nltk\n",
    "from nltk.corpus import wordnet as wn\n",
    "nltk.download()"
   ]
  },
  {
   "cell_type": "code",
   "execution_count": 6,
   "metadata": {},
   "outputs": [
    {
     "data": {
      "text/plain": [
       "(Synset('dalmatian.n.02'), [Synset('dog.n.01')])"
      ]
     },
     "execution_count": 6,
     "metadata": {},
     "output_type": "execute_result"
    }
   ],
   "source": [
    "synset=wn.synset_from_pos_and_offset('n', 2110341)\n",
    "synset,synset.hypernyms()"
   ]
  },
  {
   "cell_type": "markdown",
   "metadata": {},
   "source": [
    "https://qiita.com/pocket_kyoto/items/f2382b9821d32624e6bc"
   ]
  },
  {
   "cell_type": "code",
   "execution_count": 1,
   "metadata": {},
   "outputs": [],
   "source": [
    "import sqlite3\n",
    "conn = sqlite3.connect(\"wnjpn.db\")\n",
    "\n",
    "class node:\n",
    "    def __init__(self, name, children=None):\n",
    "        self.name = name  # String\n",
    "        self.children = children  # List of Class node\n",
    "\n",
    "    # 結果表示用\n",
    "    def display(self, indent = 0):\n",
    "        if self.children != None:\n",
    "            print(' '*indent + self.name)\n",
    "            for c in self.children:\n",
    "                c.display(indent+1)\n",
    "        else:\n",
    "            print(' '*indent + self.name)"
   ]
  },
  {
   "cell_type": "code",
   "execution_count": 2,
   "metadata": {},
   "outputs": [
    {
     "name": "stdout",
     "output_type": "stream",
     "text": [
      "('pos_def',)\n",
      "('link_def',)\n",
      "('synset_def',)\n",
      "('synset_ex',)\n",
      "('synset',)\n",
      "('synlink',)\n",
      "('ancestor',)\n",
      "('sense',)\n",
      "('word',)\n",
      "('variant',)\n",
      "('xlink',)\n"
     ]
    }
   ],
   "source": [
    "conn = sqlite3.connect(\"wnjpn.db\")\n",
    "# 含まれるテーブルの確認\n",
    "cur = conn.execute(\"select name from sqlite_master where type='table'\")\n",
    "for row in cur:\n",
    "    print(row)"
   ]
  },
  {
   "cell_type": "code",
   "execution_count": 3,
   "metadata": {},
   "outputs": [
    {
     "name": "stdout",
     "output_type": "stream",
     "text": [
      "上位語に含まれる単語の数 ： 20008\n",
      "上位語に含まれる単語の中で下位語に含まれない単語の数 ： 346\n"
     ]
    }
   ],
   "source": [
    "# 上位-下位の関係にある概念の抽出\n",
    "hierarchy_dict = {}  # key:上位語(String), value:下位語(List of String)\n",
    "n_term_set = set()  # 下位語に含まれる単語集合\n",
    "\n",
    "cur = conn.execute(\"select synset1,synset2 from synlink where link='hypo'\")  # 上位語-下位語の関係にあるものを抽出\n",
    "for row in cur:\n",
    "    b_term = row[0]\n",
    "    n_term = row[1]\n",
    "\n",
    "    if b_term not in hierarchy_dict:\n",
    "        hierarchy_dict[b_term] = []\n",
    "\n",
    "    hierarchy_dict[b_term].append(n_term) \n",
    "    n_term_set.add(n_term)\n",
    "\n",
    "print(\"上位語に含まれる単語の数 ： %s\" % len(hierarchy_dict))\n",
    "\n",
    "top_concepts = list(set(hierarchy_dict.keys()) - n_term_set)\n",
    "print(\"上位語に含まれる単語の中で下位語に含まれない単語の数 ： %s\" % len(top_concepts))"
   ]
  },
  {
   "cell_type": "code",
   "execution_count": 4,
   "metadata": {},
   "outputs": [
    {
     "name": "stdout",
     "output_type": "stream",
     "text": [
      "07125096-n : expletive\n"
     ]
    }
   ],
   "source": [
    "# synset(概念)のIDから、概念の名称に変換する辞書の作成\n",
    "synset_name_dict = {}  # key:synsetのID, value:synsetの名称\n",
    "cur = conn.execute(\"select synset,name from synset\")\n",
    "for row in cur:\n",
    "    synset_name_dict[row[0]] = row[1]\n",
    "for k,v in synset_name_dict.items():\n",
    "    print(\"%s : %s\" % (k,v))\n",
    "    break"
   ]
  },
  {
   "cell_type": "code",
   "execution_count": 5,
   "metadata": {},
   "outputs": [],
   "source": [
    "# 下位の語が未登録の場合、再帰的に呼ばれる関数\n",
    "def recrusive_register(term, synset_name_dict, hierarchy_dict, node_tree_dict):\n",
    "    for term in hierarchy_dict[term]:\n",
    "        if term not in node_tree_dict:\n",
    "            if term in hierarchy_dict:\n",
    "                recrusive_register(term, synset_name_dict, hierarchy_dict, node_tree_dict)\n",
    "                node_tree_dict[term] = node(synset_name_dict[term], [node_tree_dict[t] for t in hierarchy_dict[term]])\n",
    "            else:\n",
    "                node_tree_dict[term] = node(synset_name_dict[term])\n",
    "\n",
    "# データ投入\n",
    "node_tree_dict = {}\n",
    "for k in top_concepts:  # 最上位の語を起点として木構造を作成\n",
    "    recrusive_register(k, synset_name_dict, hierarchy_dict, node_tree_dict)\n",
    "    node_tree_dict[k] = node(synset_name_dict[k], [node_tree_dict[term] for term in hierarchy_dict[k]])\n"
   ]
  },
  {
   "cell_type": "code",
   "execution_count": 6,
   "metadata": {},
   "outputs": [
    {
     "name": "stdout",
     "output_type": "stream",
     "text": [
      "come\n",
      " set_down\n",
      "  alight\n",
      "  force-land\n",
      "  beach\n",
      "  port\n",
      "  set_down\n",
      "  touch_down\n",
      "  undershoot\n",
      "  belly-land\n",
      "  crash_land\n",
      "   ditch\n",
      " drive_in\n",
      " put_down\n",
      " land\n",
      " roll_up\n",
      " come\n",
      " hit\n",
      "  max_out\n",
      "  break_even\n",
      " flood_in\n",
      " pull_in\n",
      " plump_in\n"
     ]
    }
   ],
   "source": [
    "node_tree_dict[top_concepts[10]].display()"
   ]
  },
  {
   "cell_type": "code",
   "execution_count": 7,
   "metadata": {},
   "outputs": [],
   "source": [
    "# 下位-上位の関係にある概念の抽出\n",
    "cur = conn.execute(\"select synset1,synset2 from synlink where link='hypo'\")\n",
    "\n",
    "hierarchy_dict = {}  # key:下位語(String), value:上位語(String)\n",
    "\n",
    "for row in cur:\n",
    "    b_term = row[0]\n",
    "    n_term = row[1]\n",
    "\n",
    "    if n_term not in hierarchy_dict:\n",
    "        hierarchy_dict[n_term] = b_term"
   ]
  },
  {
   "cell_type": "code",
   "execution_count": 8,
   "metadata": {},
   "outputs": [],
   "source": [
    "# 特定の単語を入力とした時に、上位語を検索する関数\n",
    "def SearchTopConceptWords(word, hierarchy_dict):\n",
    "\n",
    "    # 問い合わせしたい単語がWordnetに存在するか確認する\n",
    "    cur = conn.execute(\"select wordid from word where lemma='%s'\" % word)\n",
    "    word_id = 99999999  #temp \n",
    "    for row in cur:\n",
    "        word_id = row[0]\n",
    "\n",
    "    # Wordnetに存在する語であるかの判定\n",
    "    if word_id==99999999:\n",
    "        print(\"「%s」は、Wordnetに存在しない単語です。\" % word)\n",
    "        return\n",
    "    else:\n",
    "        print(\"【「%s」の最上位概念を出力します】\\n\" % word)\n",
    "\n",
    "    # 入力された単語を含む概念を検索する\n",
    "    cur = conn.execute(\"select synset from sense where wordid='%s'\" % word_id)\n",
    "    synsets = []\n",
    "    for row in cur:\n",
    "        synsets.append(row[0])\n",
    "\n",
    "    # 概念に含まれる単語を検索して画面出力する\n",
    "    no = 1\n",
    "    for synset in synsets:\n",
    "        cur1 = conn.execute(\"select name from synset where synset='%s'\" % synset)\n",
    "        for row1 in cur1:\n",
    "            print(\"%sつめの概念 : %s\" %(no, row1[0]))\n",
    "        cur2 = conn.execute(\"select def from synset_def where (synset='%s' and lang='jpn')\" % synset)\n",
    "        sub_no = 1\n",
    "        for row2 in cur2:\n",
    "            print(\"意味%s : %s\" %(sub_no, row2[0]))\n",
    "            sub_no += 1\n",
    "\n",
    "        # 上位語の検索部分\n",
    "        b_term = \"\"\n",
    "        while(synset in hierarchy_dict.keys()):\n",
    "            synset = hierarchy_dict[synset]\n",
    "\n",
    "        cur1 = conn.execute(\"select name from synset where synset='%s'\" % synset)\n",
    "        for row1 in cur1:\n",
    "            print(\"最上位概念 : %s\" % row1[0])\n",
    "\n",
    "        cur2 = conn.execute(\"select def from synset_def where (synset='%s' and lang='jpn')\" % synset)\n",
    "        sub_no = 1\n",
    "        for row2 in cur2:\n",
    "            print(\"意味%s : %s\" %(sub_no, row2[0]))\n",
    "            sub_no += 1\n",
    "\n",
    "        # 更新          \n",
    "        print(\"\\n\")\n",
    "        no += 1"
   ]
  },
  {
   "cell_type": "code",
   "execution_count": 9,
   "metadata": {},
   "outputs": [
    {
     "name": "stdout",
     "output_type": "stream",
     "text": [
      "【「ネコ」の最上位概念を出力します】\n",
      "\n",
      "1つめの概念 : true_cat\n",
      "意味1 : 通常、厚く柔らかい毛皮を持ち、吠えることのできないネコ科の哺乳類：家ネコ\n",
      "意味2 : ヤマネコ\n",
      "最上位概念 : entity\n",
      "意味1 : （生命がある、あるいは生命がないに関わらず）それ自身の明確な存在を持つと感知される、知られている、あるいは推定される何か\n",
      "\n",
      "\n"
     ]
    }
   ],
   "source": [
    "SearchTopConceptWords(\"ネコ\", hierarchy_dict)"
   ]
  },
  {
   "cell_type": "code",
   "execution_count": null,
   "metadata": {},
   "outputs": [],
   "source": []
  },
  {
   "cell_type": "code",
   "execution_count": null,
   "metadata": {},
   "outputs": [],
   "source": []
  },
  {
   "cell_type": "code",
   "execution_count": null,
   "metadata": {},
   "outputs": [],
   "source": []
  }
 ],
 "metadata": {
  "kernelspec": {
   "display_name": "Python 3.9.12 64-bit",
   "language": "python",
   "name": "python3"
  },
  "language_info": {
   "codemirror_mode": {
    "name": "ipython",
    "version": 3
   },
   "file_extension": ".py",
   "mimetype": "text/x-python",
   "name": "python",
   "nbconvert_exporter": "python",
   "pygments_lexer": "ipython3",
   "version": "3.9.12"
  },
  "orig_nbformat": 4,
  "vscode": {
   "interpreter": {
    "hash": "b0fa6594d8f4cbf19f97940f81e996739fb7646882a419484c72d19e05852a7e"
   }
  }
 },
 "nbformat": 4,
 "nbformat_minor": 2
}
