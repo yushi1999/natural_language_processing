{
 "cells": [
  {
   "cell_type": "markdown",
   "metadata": {},
   "source": [
    "Transformerを自作する\n",
    "参考: https://zenn.dev/yukiyada/articles/59f3b820c52571"
   ]
  },
  {
   "cell_type": "code",
   "execution_count": null,
   "metadata": {},
   "outputs": [],
   "source": [
    "\"\"\" ディレクトリ構成\n",
    "。\n",
    "├── const // pathなどの定数値\n",
    "│   └── path.py\n",
    "├── corpus // 訓練用のデータ・コーパスが入る\n",
    "│   └── kftt-data-1.0\n",
    "├── figure\n",
    "├── layers // 深層ニューラルネットを構成するレイヤの実装\n",
    "│   └── transformer\n",
    "│       ├── Embedding.py\n",
    "│       ├── FFN.py\n",
    "│       ├── MultiHeadAttention.py\n",
    "│       ├── PositionalEncoding.py\n",
    "│       ├── ScaledDotProductAttention.py\n",
    "│       ├── TransformerDecoder.py\n",
    "│       └── TransformerEncoder.py\n",
    "├── models // 深層ニューラルネットモデルの実装\n",
    "│   ├── Transformer.py\n",
    "│   └── __init__.py\n",
    "├── mypy.ini\n",
    "├── pickles // モデルやデータセットのpickleファイルを格納\n",
    "│   └── nn/\n",
    "├── poetry.lock\n",
    "├── poetry.toml\n",
    "├── pyproject.toml\n",
    "├── tests // テスト(pytest)\n",
    "│   ├── conftest.py\n",
    "│   ├── layers/\n",
    "│   ├── models/\n",
    "│   └── utils/\n",
    "├── train.py // 訓練用コード\n",
    "└── utils // DatasetやVocabといったクラスの実装,前処理に用いる関数の実装\n",
    "    ├── dataset/\n",
    "    ├── download.py\n",
    "    ├── evaluation/\n",
    "    └── text/\n",
    "\"\"\""
   ]
  },
  {
   "cell_type": "code",
   "execution_count": null,
   "metadata": {},
   "outputs": [],
   "source": []
  }
 ],
 "metadata": {
  "kernelspec": {
   "display_name": "Python 3.9.12 64-bit",
   "language": "python",
   "name": "python3"
  },
  "language_info": {
   "name": "python",
   "version": "3.9.12"
  },
  "orig_nbformat": 4,
  "vscode": {
   "interpreter": {
    "hash": "b0fa6594d8f4cbf19f97940f81e996739fb7646882a419484c72d19e05852a7e"
   }
  }
 },
 "nbformat": 4,
 "nbformat_minor": 2
}
