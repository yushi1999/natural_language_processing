{
 "cells": [
  {
   "cell_type": "code",
   "execution_count": 2,
   "metadata": {},
   "outputs": [],
   "source": [
    "import random\n",
    "import glob\n",
    "import json\n",
    "from tqdm import tqdm\n",
    "\n",
    "import torch\n",
    "from torch.utils.data import DataLoader\n",
    "from transformers import BertJapaneseTokenizer, BertModel\n",
    "import pytorch_lightning as pl\n",
    "\n",
    "# 日本語の事前学習モデル\n",
    "MODEL_NAME = 'cl-tohoku/bert-base-japanese-whole-word-masking'"
   ]
  },
  {
   "cell_type": "code",
   "execution_count": 3,
   "metadata": {},
   "outputs": [],
   "source": [
    "class BertForSequenceClassificationMultiLabel(torch.nn.Module):\n",
    "    def __init__(self, model_name, num_labels):\n",
    "        super().__init__()\n",
    "        # BertModelのロード\n",
    "        self.bert = BertModel.from_pretrained(model_name)\n",
    "        # 線形変換を初期化しておく\n",
    "        self.linear = torch.nn.Linear(self.bert.config.hidden_size, num_labels)\n",
    "\n",
    "    def forward(\n",
    "        self,\n",
    "        input_ids=None,\n",
    "        attention_mask=None,\n",
    "        token_type_ids=None,\n",
    "        labels=None\n",
    "    ):\n",
    "        # データを入力しBERTの最終層の出力を得る\n",
    "        bert_output = self.bert(\n",
    "            input_ids=input_ids, attention_mask=attention_mask, token_type_ids=token_type_ids) # attention_mask:paddingじゃないトークンのこと\n",
    "        last_hidden_state = bert_output.last_hidden_state\n",
    "\n",
    "        # [PAD]以外のトークンで隠れ状態の平均を取る\n",
    "        averaged_hidden_state = (\n",
    "            last_hidden_state*attention_mask.unsqueeze(-1)).sum(1)/attention_mask.sum(1, keepdim=True)\n",
    "\n",
    "        # 線形変換\n",
    "        scores = self.linear(averaged_hidden_state)\n",
    "\n",
    "        # 出力の形式を整える\n",
    "        output = {\"logits\": scores}\n",
    "\n",
    "        # labelsが入力に含まれていたら、損失を計算し出力する\n",
    "        if labels is not None:\n",
    "            loss = torch.nn.BCEWithLogitsLoss()(scores, labels.float())\n",
    "            output[\"loss\"] = loss\n",
    "\n",
    "        # 属性でアクセスできるようにする\n",
    "        output = type(\"bert_output\", (object,), output)\n",
    "\n",
    "        return output\n"
   ]
  },
  {
   "cell_type": "code",
   "execution_count": 4,
   "metadata": {},
   "outputs": [
    {
     "name": "stderr",
     "output_type": "stream",
     "text": [
      "Some weights of the model checkpoint at cl-tohoku/bert-base-japanese-whole-word-masking were not used when initializing BertModel: ['cls.seq_relationship.bias', 'cls.predictions.transform.LayerNorm.weight', 'cls.predictions.transform.dense.weight', 'cls.predictions.transform.LayerNorm.bias', 'cls.predictions.bias', 'cls.seq_relationship.weight', 'cls.predictions.decoder.weight', 'cls.predictions.transform.dense.bias']\n",
      "- This IS expected if you are initializing BertModel from the checkpoint of a model trained on another task or with another architecture (e.g. initializing a BertForSequenceClassification model from a BertForPreTraining model).\n",
      "- This IS NOT expected if you are initializing BertModel from the checkpoint of a model that you expect to be exactly identical (initializing a BertForSequenceClassification model from a BertForSequenceClassification model).\n"
     ]
    }
   ],
   "source": [
    "tokenizer=BertJapaneseTokenizer.from_pretrained(MODEL_NAME)\n",
    "bert_scml=BertForSequenceClassificationMultiLabel(MODEL_NAME,num_labels=2)\n",
    "bert_scml=bert_scml.cuda()"
   ]
  },
  {
   "cell_type": "code",
   "execution_count": 20,
   "metadata": {},
   "outputs": [],
   "source": [
    "text_list=[\n",
    "    \"今日の仕事はうまくいったが、体調があまり良くない。\",\"昨日は楽しかった。\"\n",
    "]\n",
    "labels_list=[\n",
    "    [1,1],[0,1]\n",
    "]\n",
    "\n",
    "#データの符号化\n",
    "encoding=tokenizer(text_list,padding=\"longest\",return_tensors=\"pt\")\n",
    "encoding={k:v.cuda() for k,v in encoding.items()} #データをGPUに載せる\n",
    "labels=torch.tensor(labels_list).cuda()\n",
    "\n",
    "#BERTへデータを入力し分類スコアを得る\n",
    "with torch.no_grad():\n",
    "    output=bert_scml(**encoding) # **encoding:辞書であるencodingの中身を展開して入力する\n",
    "scores=output.logits\n",
    "\n",
    "#スコアが正ならば、そのカテゴリを選択する\n",
    "labels_predicted=(scores>0).int()\n",
    "\n",
    "#精度の計算\n",
    "num_correct=(labels_predicted==labels).all(-1).sum().item()\n",
    "accuracy=num_correct/labels.size(0)"
   ]
  },
  {
   "cell_type": "code",
   "execution_count": 22,
   "metadata": {},
   "outputs": [],
   "source": [
    "#学習時にはモデルへの入力にlabelsとして各文章が属するカテゴリを入力することで、損失が得られる\n",
    "\n",
    "#データの符号化\n",
    "encoding=tokenizer(text_list,padding=\"longest\",return_tensors=\"pt\")\n",
    "encoding[\"labels\"]=torch.tensor(labels_list) #入力にlabelsを含める\n",
    "encoding={k:v.cuda() for k,v in encoding.items()} #データをGPUに載せる\n",
    "\n",
    "output=bert_scml(**encoding)\n",
    "loss=output.loss #損失"
   ]
  },
  {
   "cell_type": "code",
   "execution_count": 23,
   "metadata": {},
   "outputs": [
    {
     "data": {
      "text/plain": [
       "tensor(0.7935, device='cuda:0',\n",
       "       grad_fn=<BinaryCrossEntropyWithLogitsBackward0>)"
      ]
     },
     "execution_count": 23,
     "metadata": {},
     "output_type": "execute_result"
    }
   ],
   "source": [
    "loss"
   ]
  },
  {
   "cell_type": "code",
   "execution_count": null,
   "metadata": {},
   "outputs": [],
   "source": []
  }
 ],
 "metadata": {
  "kernelspec": {
   "display_name": "Python 3.9.6 64-bit ('3.9.6')",
   "language": "python",
   "name": "python3"
  },
  "language_info": {
   "codemirror_mode": {
    "name": "ipython",
    "version": 3
   },
   "file_extension": ".py",
   "mimetype": "text/x-python",
   "name": "python",
   "nbconvert_exporter": "python",
   "pygments_lexer": "ipython3",
   "version": "3.9.6"
  },
  "orig_nbformat": 4,
  "vscode": {
   "interpreter": {
    "hash": "89f142c5e0f1705deb2db4cf7e0dc678636cb1933d453fbbccc55a26e1a8c8e7"
   }
  }
 },
 "nbformat": 4,
 "nbformat_minor": 2
}
