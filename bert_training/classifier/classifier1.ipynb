{
 "cells": [
  {
   "cell_type": "code",
   "execution_count": 4,
   "metadata": {},
   "outputs": [
    {
     "name": "stdout",
     "output_type": "stream",
     "text": [
      "--2022-08-02 08:48:59--  ftp://https/\n",
      "           => `.listing'\n",
      "https (https) をDNSに問いあわせています... 失敗しました: 名前またはサービスが不明です.\n",
      "wget: ホストアドレス `https' を解決できませんでした。\n",
      "//: スキームがありません.\n",
      "--2022-08-02 08:48:59--  http://archive.ics.uci.edu/ml/machine-learning-databases/00359/NewsAggregatorDataset.zip\n",
      "archive.ics.uci.edu (archive.ics.uci.edu) をDNSに問いあわせています... 128.195.10.252\n",
      "archive.ics.uci.edu (archive.ics.uci.edu)|128.195.10.252|:80 に接続しています... 接続しました。\n",
      "HTTP による接続要求を送信しました、応答を待っています... 200 OK\n",
      "長さ: 29224203 (28M) [application/x-httpd-php]\n",
      "`NewsAggregatorDataset.zip' に保存中\n",
      "\n",
      "NewsAggregatorDatas 100%[===================>]  27.87M  1.26MB/s    in 22s     \n",
      "\n",
      "2022-08-02 08:49:23 (1.25 MB/s) - `NewsAggregatorDataset.zip' へ保存完了 [29224203/29224203]\n",
      "\n",
      "終了しました --2022-08-02 08:49:23--\n",
      "経過時間: 24s\n",
      "ダウンロード完了: 1 ファイル、28M バイトを 22s で取得 (1.25 MB/s)\n",
      "Archive:  NewsAggregatorDataset.zip\n",
      "  inflating: 2pageSessions.csv       \n",
      "   creating: __MACOSX/\n",
      "  inflating: __MACOSX/._2pageSessions.csv  \n",
      "  inflating: newsCorpora.csv         \n",
      "  inflating: __MACOSX/._newsCorpora.csv  \n",
      "  inflating: readme.txt              \n",
      "  inflating: __MACOSX/._readme.txt   \n"
     ]
    }
   ],
   "source": [
    "\"\"\"News Aggregator Datasetでの文書分類モデルの実装\"\"\"\n",
    "\n",
    "!wget https: // archive.ics.uci.edu/ml/machine-learning-databases/00359/NewsAggregatorDataset.zip\n",
    "!unzip NewsAggregatorDataset.zip\n"
   ]
  },
  {
   "cell_type": "code",
   "execution_count": 5,
   "metadata": {},
   "outputs": [
    {
     "name": "stdout",
     "output_type": "stream",
     "text": [
      "==> 標準入力 <==\n",
      "^C\n"
     ]
    }
   ],
   "source": [
    "# 先頭10行の確認\n",
    "!head - 10 ./newsCorpora.csv\n"
   ]
  },
  {
   "cell_type": "code",
   "execution_count": 6,
   "metadata": {},
   "outputs": [],
   "source": [
    "# 読込時のエラー回避のためダブルクォーテーションをシングルクォーテーションに置換\n",
    "!sed -e 's/\"/'\\''/g' ./newsCorpora.csv > ./newsCorpora_re.csv\n"
   ]
  },
  {
   "cell_type": "code",
   "execution_count": 7,
   "metadata": {},
   "outputs": [],
   "source": [
    "import pandas as pd\n",
    "from sklearn.model_selection import train_test_split\n",
    "\n",
    "# データの読込\n",
    "df = pd.read_csv('./newsCorpora_re.csv', header=None, sep='\\t', names=[\n",
    "                 'ID', 'TITLE', 'URL', 'PUBLISHER', 'CATEGORY', 'STORY', 'HOSTNAME', 'TIMESTAMP'])\n",
    "# データの抽出 (TITLEとCATEGORYだけ使う)\n",
    "df = df.loc[df['PUBLISHER'].isin(\n",
    "    ['Reuters', 'Huffington Post', 'Businessweek', 'Contactmusic.com', 'Daily Mail']), ['TITLE', 'CATEGORY']]\n",
    "\n",
    "# データの分割\n",
    "train, valid_test = train_test_split(\n",
    "    df, test_size=0.2, shuffle=True, random_state=123, stratify=df[\"CATEGORY\"])\n",
    "valid, test = train_test_split(\n",
    "    valid_test, test_size=0.5, shuffle=True, random_state=123, stratify=valid_test['CATEGORY'])\n",
    "train.reset_index(drop=True, inplace=True)\n",
    "valid.reset_index(drop=True, inplace=True)\n",
    "test.reset_index(drop=True, inplace=True)\n"
   ]
  },
  {
   "cell_type": "code",
   "execution_count": 8,
   "metadata": {},
   "outputs": [
    {
     "data": {
      "text/html": [
       "<div>\n",
       "<style scoped>\n",
       "    .dataframe tbody tr th:only-of-type {\n",
       "        vertical-align: middle;\n",
       "    }\n",
       "\n",
       "    .dataframe tbody tr th {\n",
       "        vertical-align: top;\n",
       "    }\n",
       "\n",
       "    .dataframe thead th {\n",
       "        text-align: right;\n",
       "    }\n",
       "</style>\n",
       "<table border=\"1\" class=\"dataframe\">\n",
       "  <thead>\n",
       "    <tr style=\"text-align: right;\">\n",
       "      <th></th>\n",
       "      <th>TITLE</th>\n",
       "      <th>CATEGORY</th>\n",
       "    </tr>\n",
       "  </thead>\n",
       "  <tbody>\n",
       "    <tr>\n",
       "      <th>0</th>\n",
       "      <td>REFILE-UPDATE 1-European car sales up for sixt...</td>\n",
       "      <td>b</td>\n",
       "    </tr>\n",
       "    <tr>\n",
       "      <th>1</th>\n",
       "      <td>Amazon Plans to Fight FTC Over Mobile-App Purc...</td>\n",
       "      <td>t</td>\n",
       "    </tr>\n",
       "    <tr>\n",
       "      <th>2</th>\n",
       "      <td>Kids Still Get Codeine In Emergency Rooms Desp...</td>\n",
       "      <td>m</td>\n",
       "    </tr>\n",
       "    <tr>\n",
       "      <th>3</th>\n",
       "      <td>What On Earth Happened Between Solange And Jay...</td>\n",
       "      <td>e</td>\n",
       "    </tr>\n",
       "    <tr>\n",
       "      <th>4</th>\n",
       "      <td>NATO Missile Defense Is Flight Tested Over Hawaii</td>\n",
       "      <td>b</td>\n",
       "    </tr>\n",
       "    <tr>\n",
       "      <th>...</th>\n",
       "      <td>...</td>\n",
       "      <td>...</td>\n",
       "    </tr>\n",
       "    <tr>\n",
       "      <th>10679</th>\n",
       "      <td>The Pillow Book of Tim Geithner</td>\n",
       "      <td>b</td>\n",
       "    </tr>\n",
       "    <tr>\n",
       "      <th>10680</th>\n",
       "      <td>Robin Thicke spends $20000 on Amethyst stone a...</td>\n",
       "      <td>e</td>\n",
       "    </tr>\n",
       "    <tr>\n",
       "      <th>10681</th>\n",
       "      <td>Japanese Shares Little Changed After Biggest R...</td>\n",
       "      <td>b</td>\n",
       "    </tr>\n",
       "    <tr>\n",
       "      <th>10682</th>\n",
       "      <td>WRAPUP 1-Liberia shuts schools as Ebola spread...</td>\n",
       "      <td>m</td>\n",
       "    </tr>\n",
       "    <tr>\n",
       "      <th>10683</th>\n",
       "      <td>Justin Bieber Caught Using N-Word &amp; Joining KK...</td>\n",
       "      <td>e</td>\n",
       "    </tr>\n",
       "  </tbody>\n",
       "</table>\n",
       "<p>10684 rows × 2 columns</p>\n",
       "</div>"
      ],
      "text/plain": [
       "                                                   TITLE CATEGORY\n",
       "0      REFILE-UPDATE 1-European car sales up for sixt...        b\n",
       "1      Amazon Plans to Fight FTC Over Mobile-App Purc...        t\n",
       "2      Kids Still Get Codeine In Emergency Rooms Desp...        m\n",
       "3      What On Earth Happened Between Solange And Jay...        e\n",
       "4      NATO Missile Defense Is Flight Tested Over Hawaii        b\n",
       "...                                                  ...      ...\n",
       "10679                    The Pillow Book of Tim Geithner        b\n",
       "10680  Robin Thicke spends $20000 on Amethyst stone a...        e\n",
       "10681  Japanese Shares Little Changed After Biggest R...        b\n",
       "10682  WRAPUP 1-Liberia shuts schools as Ebola spread...        m\n",
       "10683  Justin Bieber Caught Using N-Word & Joining KK...        e\n",
       "\n",
       "[10684 rows x 2 columns]"
      ]
     },
     "execution_count": 8,
     "metadata": {},
     "output_type": "execute_result"
    }
   ],
   "source": [
    "train\n"
   ]
  },
  {
   "cell_type": "code",
   "execution_count": 9,
   "metadata": {},
   "outputs": [
    {
     "data": {
      "text/plain": [
       "b    4501\n",
       "e    4235\n",
       "t    1220\n",
       "m     728\n",
       "Name: CATEGORY, dtype: int64"
      ]
     },
     "execution_count": 9,
     "metadata": {},
     "output_type": "execute_result"
    }
   ],
   "source": [
    "train[\"CATEGORY\"].value_counts()\n"
   ]
  },
  {
   "cell_type": "code",
   "execution_count": 10,
   "metadata": {},
   "outputs": [
    {
     "name": "stderr",
     "output_type": "stream",
     "text": [
      "/home/kontani0930/.pyenv/versions/3.9.6/lib/python3.9/site-packages/tqdm/auto.py:22: TqdmWarning: IProgress not found. Please update jupyter and ipywidgets. See https://ipywidgets.readthedocs.io/en/stable/user_install.html\n",
      "  from .autonotebook import tqdm as notebook_tqdm\n"
     ]
    }
   ],
   "source": [
    "import numpy as np\n",
    "import transformers\n",
    "import torch\n",
    "from torch.utils.data import Dataset, DataLoader\n",
    "from transformers import BertTokenizer, BertModel\n",
    "from torch import optim\n",
    "from torch import cuda\n",
    "import time\n",
    "from matplotlib import pyplot as plt\n"
   ]
  },
  {
   "cell_type": "code",
   "execution_count": 19,
   "metadata": {},
   "outputs": [],
   "source": [
    "# Datasetの定義(PyTorchで使われる、特徴ベクトルとラベルベクトルを合わせて保持するクラス)\n",
    "class CreateDataset(Dataset):\n",
    "    def __init__(self, X, y, tokenizer, max_len):\n",
    "        self.X = X\n",
    "        self.y = y\n",
    "        self.tokenizer = tokenizer\n",
    "        self.max_len = max_len\n",
    "\n",
    "    def __len__(self):  # len(Dataset)で返す値を指定\n",
    "        return len(self.y)\n",
    "\n",
    "    def __getitem__(self, index):  # Dataset[index]で返す値を指定\n",
    "        text = self.X[index]\n",
    "        #指定した最長系列長までパディングした上で単語IDに変換する\n",
    "        inputs = self.tokenizer.encode_plus(\n",
    "            text, add_special_tokens=True, max_length=self.max_len, pad_to_max_length=True,\n",
    "        )\n",
    "        ids=inputs[\"input_ids\"]\n",
    "        mask=inputs[\"attention_mask\"]\n",
    "\n",
    "        return {\n",
    "            \"ids\":torch.LongTensor(ids),\n",
    "            \"mask\":torch.LongTensor(mask),\n",
    "            \"labels\":torch.Tensor(self.y[index])\n",
    "        }"
   ]
  },
  {
   "cell_type": "code",
   "execution_count": 20,
   "metadata": {},
   "outputs": [
    {
     "name": "stderr",
     "output_type": "stream",
     "text": [
      "Truncation was not explicitly activated but `max_length` is provided a specific value, please use `truncation=True` to explicitly truncate examples to max length. Defaulting to 'longest_first' truncation strategy. If you encode pairs of sequences (GLUE-style) with the tokenizer you can select this strategy more precisely by providing a specific strategy to `truncation`.\n"
     ]
    },
    {
     "name": "stdout",
     "output_type": "stream",
     "text": [
      "ids: tensor([  101, 25416,  9463,  1011, 10651,  1015,  1011,  2647,  2482,  4341,\n",
      "         2039,  2005,  4369,  3204,  2004, 18730,  8980,   102,     0,     0])\n",
      "mask: tensor([1, 1, 1, 1, 1, 1, 1, 1, 1, 1, 1, 1, 1, 1, 1, 1, 1, 1, 0, 0])\n",
      "labels: tensor([1., 0., 0., 0.])\n"
     ]
    },
    {
     "name": "stderr",
     "output_type": "stream",
     "text": [
      "/home/kontani0930/.pyenv/versions/3.9.6/lib/python3.9/site-packages/transformers/tokenization_utils_base.py:2301: FutureWarning: The `pad_to_max_length` argument is deprecated and will be removed in a future version, use `padding=True` or `padding='longest'` to pad to the longest sequence in the batch, or use `padding='max_length'` to pad to a max length. In this case, you can give a specific length with `max_length` (e.g. `max_length=45`) or leave max_length to None to pad to the maximal input size of the model (e.g. 512 for Bert).\n",
      "  warnings.warn(\n"
     ]
    }
   ],
   "source": [
    "#正解ラベルのone-hot化\n",
    "y_train=pd.get_dummies(train,columns=[\"CATEGORY\"])[['CATEGORY_b', 'CATEGORY_e', 'CATEGORY_t', 'CATEGORY_m']].values\n",
    "y_valid = pd.get_dummies(valid, columns=['CATEGORY'])[['CATEGORY_b', 'CATEGORY_e', 'CATEGORY_t', 'CATEGORY_m']].values\n",
    "y_test = pd.get_dummies(test, columns=['CATEGORY'])[['CATEGORY_b', 'CATEGORY_e', 'CATEGORY_t', 'CATEGORY_m']].values\n",
    "\n",
    "#Datasetの作成\n",
    "max_len=20\n",
    "#BERTの英語版事前学習済みモデルのうち、手軽に試せるUncased(小文字のみに対応)を使っていく\n",
    "tokenizer =BertTokenizer.from_pretrained(\"bert-base-uncased\")\n",
    "dataset_train=CreateDataset(X=train[\"TITLE\"],y=y_train,tokenizer=tokenizer,max_len=max_len)\n",
    "dataset_valid=CreateDataset(X=valid[\"TITLE\"],y=y_valid,tokenizer=tokenizer,max_len=max_len)\n",
    "dataset_test=CreateDataset(X=test[\"TITLE\"],y=y_test,tokenizer=tokenizer,max_len=max_len)\n",
    "\n",
    "for var in dataset_train[0]:\n",
    "    #入力文字列がidsとしてID系列に変換されていることが確認できる。\n",
    "    #BERTでは文頭と文末の特殊区切り文字[CLS]と[SEP]が101,102として系列に含まれる。0はパディングである。\n",
    "    print(f'{var}: {dataset_train[0][var]}')"
   ]
  },
  {
   "cell_type": "code",
   "execution_count": 21,
   "metadata": {},
   "outputs": [
    {
     "data": {
      "text/plain": [
       "array([[1, 0, 0, 0],\n",
       "       [0, 0, 1, 0],\n",
       "       [0, 0, 0, 1],\n",
       "       ...,\n",
       "       [1, 0, 0, 0],\n",
       "       [0, 0, 0, 1],\n",
       "       [0, 1, 0, 0]], dtype=uint8)"
      ]
     },
     "execution_count": 21,
     "metadata": {},
     "output_type": "execute_result"
    }
   ],
   "source": [
    "y_train"
   ]
  },
  {
   "cell_type": "code",
   "execution_count": 22,
   "metadata": {},
   "outputs": [],
   "source": [
    "# BERT分類モデルの定義\n",
    "class BERTClass(torch.nn.Module):\n",
    "    def __init__(self, drop_rate, output_size):\n",
    "        super().__init__()\n",
    "        self.bert = BertModel.from_pretrained(\"bert-base-uncased\",return_dict=False)\n",
    "        self.drop = torch.nn.Dropout(drop_rate)\n",
    "        # 全結合層 BERTの出力に合わせて768次元を指定\n",
    "        self.fc = torch.nn.Linear(768, output_size)\n",
    "\n",
    "    def forward(self, ids, mask):\n",
    "        _, out = self.bert(ids, attention_mask=mask)\n",
    "        out = self.fc(self.drop(out))\n",
    "        return out"
   ]
  },
  {
   "cell_type": "code",
   "execution_count": 23,
   "metadata": {},
   "outputs": [],
   "source": [
    "#BERT分類モデルの学習\n",
    "def calculate_loss_and_accuracy(model,criterion,loader,device):\n",
    "    #損失・正解率を計算\n",
    "    model.eval()\n",
    "    loss,total,correct=0.0,0,0\n",
    "\n",
    "    with torch.no_grad():\n",
    "        for data in loader:\n",
    "            #デバイスの指定\n",
    "            ids=data[\"ids\"].to(device)\n",
    "            mask=data[\"mask\"].to(device)\n",
    "            labels=data[\"labels\"].to(device)\n",
    "\n",
    "            #順伝播\n",
    "            outputs=model(ids,mask)\n",
    "\n",
    "            #損失計算\n",
    "            loss+=criterion(outputs,labels).item()\n",
    "\n",
    "            #正解率計算\n",
    "            pred=torch.argmax(outputs,dim=-1).cpu().numpy() # バッチサイズの長さの予測ラベル配列\n",
    "            labels = torch.argmax(labels, dim=-1).cpu().numpy()  # バッチサイズの長さの正解ラベル配列\n",
    "            total+=len(labels)\n",
    "            correct+=(pred==labels).sum().item()\n",
    "    \n",
    "    return loss/len(loader),correct/total"
   ]
  },
  {
   "cell_type": "code",
   "execution_count": 24,
   "metadata": {},
   "outputs": [],
   "source": [
    "def train_model(dataset_train, dataset_valid, batch_size, model, criterion, optimizer, num_epochs, device=None):\n",
    "    # モデルの学習を実行し、損失・正解率のログを返す\n",
    "    # デバイスの指定\n",
    "    model.to(device)\n",
    "\n",
    "    # dataloaderの作成\n",
    "    dataloader_train = DataLoader(dataset_train, batch_size=batch_size,shuffle=True)\n",
    "    dataloader_valid = DataLoader(dataset_valid, batch_size=len(dataset_valid), shuffle=False)\n",
    "\n",
    "    # 学習\n",
    "    log_train, log_valid = [], []\n",
    "    for epoch in range(num_epochs):\n",
    "        # 開始時刻の記録\n",
    "        s_time = time.time()\n",
    "\n",
    "        # 訓練モードに設定\n",
    "        model.train()\n",
    "        for data in dataloader_train:\n",
    "            # デバイスの指定\n",
    "            ids = data[\"ids\"].to(device)\n",
    "            mask = data[\"mask\"].to(device)\n",
    "            labels = data[\"labels\"].to(device)\n",
    "\n",
    "            # 勾配をゼロで初期化\n",
    "            optimizer.zero_grad()\n",
    "\n",
    "            # 順伝播+誤差逆伝播+重み更新\n",
    "            outputs = model(ids, mask)\n",
    "            loss = criterion(outputs, labels)\n",
    "            loss.backward()\n",
    "            optimizer.step()\n",
    "\n",
    "        # 損失と正解率の算出\n",
    "        loss_train, acc_train = calculate_loss_and_accuracy(\n",
    "            model, criterion, dataloader_train, device)\n",
    "        loss_valid, acc_valid = calculate_loss_and_accuracy(\n",
    "            model, criterion, dataloader_valid, device)\n",
    "        log_train.append([loss_train, acc_train])\n",
    "        log_valid.append([loss_valid, acc_valid])\n",
    "\n",
    "        # チェックポイントの保存\n",
    "        #torch.save({'epoch': epoch, 'model_state_dict': model.state_dict(), 'optimizer_state_dict': optimizer.state_dict()}, f'checkpoints/checkpoint{epoch + 1}.pt')\n",
    "        torch.save(model.state_dict(), f'checkpoints/checkpoint{epoch + 1}.pt')\n",
    "\n",
    "        # 終了時刻の記録\n",
    "        e_time = time.time()\n",
    "\n",
    "        # ログを出力\n",
    "        print(f'epoch: {epoch + 1}, loss_train: {loss_train:.4f}, accuracy_train: {acc_train:.4f}, loss_valid: {loss_valid:.4f}, accuracy_valid: {acc_valid:.4f}, {(e_time - s_time):.4f}sec')\n",
    "    return {\"train\": log_train, \"valid\": log_valid}\n"
   ]
  },
  {
   "cell_type": "code",
   "execution_count": 25,
   "metadata": {},
   "outputs": [],
   "source": [
    "!mkdir -vp checkpoints"
   ]
  },
  {
   "cell_type": "code",
   "execution_count": 26,
   "metadata": {},
   "outputs": [
    {
     "name": "stderr",
     "output_type": "stream",
     "text": [
      "Some weights of the model checkpoint at bert-base-uncased were not used when initializing BertModel: ['cls.seq_relationship.weight', 'cls.predictions.decoder.weight', 'cls.seq_relationship.bias', 'cls.predictions.bias', 'cls.predictions.transform.dense.bias', 'cls.predictions.transform.LayerNorm.weight', 'cls.predictions.transform.dense.weight', 'cls.predictions.transform.LayerNorm.bias']\n",
      "- This IS expected if you are initializing BertModel from the checkpoint of a model trained on another task or with another architecture (e.g. initializing a BertForSequenceClassification model from a BertForPreTraining model).\n",
      "- This IS NOT expected if you are initializing BertModel from the checkpoint of a model that you expect to be exactly identical (initializing a BertForSequenceClassification model from a BertForSequenceClassification model).\n"
     ]
    },
    {
     "name": "stdout",
     "output_type": "stream",
     "text": [
      "epoch: 1, loss_train: 0.0829, accuracy_train: 0.9542, loss_valid: 0.1084, accuracy_valid: 0.9296, 48.2278sec\n",
      "epoch: 2, loss_train: 0.0440, accuracy_train: 0.9782, loss_valid: 0.0992, accuracy_valid: 0.9341, 51.8965sec\n",
      "epoch: 3, loss_train: 0.0338, accuracy_train: 0.9811, loss_valid: 0.1091, accuracy_valid: 0.9192, 54.2707sec\n",
      "epoch: 4, loss_train: 0.0177, accuracy_train: 0.9929, loss_valid: 0.1087, accuracy_valid: 0.9296, 54.2198sec\n",
      "epoch: 5, loss_train: 0.0139, accuracy_train: 0.9939, loss_valid: 0.1241, accuracy_valid: 0.9251, 53.8267sec\n",
      "epoch: 6, loss_train: 0.0108, accuracy_train: 0.9960, loss_valid: 0.1230, accuracy_valid: 0.9334, 53.0363sec\n",
      "epoch: 7, loss_train: 0.0109, accuracy_train: 0.9950, loss_valid: 0.1402, accuracy_valid: 0.9207, 52.7218sec\n",
      "epoch: 8, loss_train: 0.0067, accuracy_train: 0.9975, loss_valid: 0.1289, accuracy_valid: 0.9289, 52.3779sec\n"
     ]
    }
   ],
   "source": [
    "# パラメータの設定\n",
    "DROP_RATE = 0.4\n",
    "OUTPUT_SIZE = 4\n",
    "BATCH_SIZE = 32\n",
    "NUM_EPOCHS = 8\n",
    "LEARNING_RATE = 2e-5\n",
    "\n",
    "# モデルの定義\n",
    "model = BERTClass(DROP_RATE, OUTPUT_SIZE)\n",
    "\n",
    "# 損失関数の定義\n",
    "criterion = torch.nn.BCEWithLogitsLoss()\n",
    "\n",
    "# オプティマイザの定義\n",
    "optimizer = torch.optim.AdamW(params=model.parameters(), lr=LEARNING_RATE)\n",
    "\n",
    "# デバイスの指定\n",
    "device = 'cuda' if cuda.is_available() else 'cpu'\n",
    "\n",
    "# モデルの学習\n",
    "log = train_model(dataset_train, dataset_valid, BATCH_SIZE, model, criterion, optimizer, NUM_EPOCHS, device=device)"
   ]
  },
  {
   "cell_type": "code",
   "execution_count": 27,
   "metadata": {},
   "outputs": [
    {
     "data": {
      "image/png": "[encoded data removed]",
      "text/plain": [
       "<Figure size 1080x360 with 2 Axes>"
      ]
     },
     "metadata": {
      "needs_background": "light"
     },
     "output_type": "display_data"
    }
   ],
   "source": [
    "# ログの可視化\n",
    "x_axis = [x for x in range(1, len(log['train']) + 1)]\n",
    "fig, ax = plt.subplots(1, 2, figsize=(15, 5))\n",
    "ax[0].plot(x_axis, np.array(log['train']).T[0], label='train')\n",
    "ax[0].plot(x_axis, np.array(log['valid']).T[0], label='valid')\n",
    "ax[0].set_xlabel('epoch')\n",
    "ax[0].set_ylabel('loss')\n",
    "ax[0].legend()\n",
    "ax[1].plot(x_axis, np.array(log['train']).T[1], label='train')\n",
    "ax[1].plot(x_axis, np.array(log['valid']).T[1], label='valid')\n",
    "ax[1].set_xlabel('epoch')\n",
    "ax[1].set_ylabel('accuracy')\n",
    "ax[1].legend()\n",
    "plt.show()"
   ]
  },
  {
   "cell_type": "code",
   "execution_count": 28,
   "metadata": {},
   "outputs": [
    {
     "ename": "AttributeError",
     "evalue": "'_IncompatibleKeys' object has no attribute 'eval'",
     "output_type": "error",
     "traceback": [
      "\u001b[0;31m---------------------------------------------------------------------------\u001b[0m",
      "\u001b[0;31mAttributeError\u001b[0m                            Traceback (most recent call last)",
      "\u001b[1;32mセル17 を /home/kontani0930/myroom/workspace/natural_language_processing/bert_training/classifier/classifier1.ipynb\u001b[0m in \u001b[0;36m<cell line: 26>\u001b[0;34m()\u001b[0m\n\u001b[1;32m     <a href='vscode-notebook-cell://ssh-remote%2Blupus/home/kontani0930/myroom/workspace/natural_language_processing/bert_training/classifier/classifier1.ipynb#ch0000016vscode-remote?line=22'>23</a>\u001b[0m   \u001b[39mreturn\u001b[39;00m correct \u001b[39m/\u001b[39m total\n\u001b[1;32m     <a href='vscode-notebook-cell://ssh-remote%2Blupus/home/kontani0930/myroom/workspace/natural_language_processing/bert_training/classifier/classifier1.ipynb#ch0000016vscode-remote?line=24'>25</a>\u001b[0m model\u001b[39m=\u001b[39mmodel\u001b[39m.\u001b[39mload_state_dict(torch\u001b[39m.\u001b[39mload(\u001b[39m\"\u001b[39m\u001b[39mcheckpoints/checkpoint8.pt\u001b[39m\u001b[39m\"\u001b[39m))\n\u001b[0;32m---> <a href='vscode-notebook-cell://ssh-remote%2Blupus/home/kontani0930/myroom/workspace/natural_language_processing/bert_training/classifier/classifier1.ipynb#ch0000016vscode-remote?line=25'>26</a>\u001b[0m \u001b[39mprint\u001b[39m(\u001b[39mf\u001b[39m\u001b[39m'\u001b[39m\u001b[39m正解率（学習データ）：\u001b[39m\u001b[39m{\u001b[39;00mcalculate_accuracy(model, dataset_train, device)\u001b[39m:\u001b[39;00m\u001b[39m.3f\u001b[39m\u001b[39m}\u001b[39;00m\u001b[39m'\u001b[39m)\n\u001b[1;32m     <a href='vscode-notebook-cell://ssh-remote%2Blupus/home/kontani0930/myroom/workspace/natural_language_processing/bert_training/classifier/classifier1.ipynb#ch0000016vscode-remote?line=26'>27</a>\u001b[0m \u001b[39mprint\u001b[39m(\u001b[39mf\u001b[39m\u001b[39m'\u001b[39m\u001b[39m正解率（検証データ）：\u001b[39m\u001b[39m{\u001b[39;00mcalculate_accuracy(model, dataset_valid, device)\u001b[39m:\u001b[39;00m\u001b[39m.3f\u001b[39m\u001b[39m}\u001b[39;00m\u001b[39m'\u001b[39m)\n\u001b[1;32m     <a href='vscode-notebook-cell://ssh-remote%2Blupus/home/kontani0930/myroom/workspace/natural_language_processing/bert_training/classifier/classifier1.ipynb#ch0000016vscode-remote?line=27'>28</a>\u001b[0m \u001b[39mprint\u001b[39m(\u001b[39mf\u001b[39m\u001b[39m'\u001b[39m\u001b[39m正解率（評価データ）：\u001b[39m\u001b[39m{\u001b[39;00mcalculate_accuracy(model, dataset_test, device)\u001b[39m:\u001b[39;00m\u001b[39m.3f\u001b[39m\u001b[39m}\u001b[39;00m\u001b[39m'\u001b[39m)\n",
      "\u001b[1;32mセル17 を /home/kontani0930/myroom/workspace/natural_language_processing/bert_training/classifier/classifier1.ipynb\u001b[0m in \u001b[0;36mcalculate_accuracy\u001b[0;34m(model, dataset, device)\u001b[0m\n\u001b[1;32m      <a href='vscode-notebook-cell://ssh-remote%2Blupus/home/kontani0930/myroom/workspace/natural_language_processing/bert_training/classifier/classifier1.ipynb#ch0000016vscode-remote?line=1'>2</a>\u001b[0m \u001b[39mdef\u001b[39;00m \u001b[39mcalculate_accuracy\u001b[39m(model, dataset, device):\n\u001b[1;32m      <a href='vscode-notebook-cell://ssh-remote%2Blupus/home/kontani0930/myroom/workspace/natural_language_processing/bert_training/classifier/classifier1.ipynb#ch0000016vscode-remote?line=2'>3</a>\u001b[0m   \u001b[39m# Dataloaderの作成\u001b[39;00m\n\u001b[1;32m      <a href='vscode-notebook-cell://ssh-remote%2Blupus/home/kontani0930/myroom/workspace/natural_language_processing/bert_training/classifier/classifier1.ipynb#ch0000016vscode-remote?line=3'>4</a>\u001b[0m   loader \u001b[39m=\u001b[39m DataLoader(dataset, batch_size\u001b[39m=\u001b[39m\u001b[39mlen\u001b[39m(dataset), shuffle\u001b[39m=\u001b[39m\u001b[39mFalse\u001b[39;00m)\n\u001b[0;32m----> <a href='vscode-notebook-cell://ssh-remote%2Blupus/home/kontani0930/myroom/workspace/natural_language_processing/bert_training/classifier/classifier1.ipynb#ch0000016vscode-remote?line=5'>6</a>\u001b[0m   model\u001b[39m.\u001b[39;49meval()\n\u001b[1;32m      <a href='vscode-notebook-cell://ssh-remote%2Blupus/home/kontani0930/myroom/workspace/natural_language_processing/bert_training/classifier/classifier1.ipynb#ch0000016vscode-remote?line=6'>7</a>\u001b[0m   total \u001b[39m=\u001b[39m \u001b[39m0\u001b[39m\n\u001b[1;32m      <a href='vscode-notebook-cell://ssh-remote%2Blupus/home/kontani0930/myroom/workspace/natural_language_processing/bert_training/classifier/classifier1.ipynb#ch0000016vscode-remote?line=7'>8</a>\u001b[0m   correct \u001b[39m=\u001b[39m \u001b[39m0\u001b[39m\n",
      "\u001b[0;31mAttributeError\u001b[0m: '_IncompatibleKeys' object has no attribute 'eval'"
     ]
    }
   ],
   "source": [
    "# 正解率の算出\n",
    "def calculate_accuracy(model, dataset, device):\n",
    "  # Dataloaderの作成\n",
    "  loader = DataLoader(dataset, batch_size=len(dataset), shuffle=False)\n",
    "\n",
    "  model.eval()\n",
    "  total = 0\n",
    "  correct = 0\n",
    "  with torch.no_grad():\n",
    "    for data in loader:\n",
    "      # デバイスの指定\n",
    "      ids = data['ids'].to(device)\n",
    "      mask = data['mask'].to(device)\n",
    "      labels = data['labels'].to(device)\n",
    "\n",
    "      # 順伝播 + 予測値の取得 + 正解数のカウント\n",
    "      outputs = model.forward(ids, mask)\n",
    "      pred = torch.argmax(outputs, dim=-1).cpu().numpy()\n",
    "      labels = torch.argmax(labels, dim=-1).cpu().numpy()\n",
    "      total += len(labels)\n",
    "      correct += (pred == labels).sum().item()\n",
    "\n",
    "  return correct / total\n",
    "\n",
    "model=model.load_state_dict(torch.load(\"checkpoints/checkpoint8.pt\"))\n",
    "print(f'正解率（学習データ）：{calculate_accuracy(model, dataset_train, device):.3f}')\n",
    "print(f'正解率（検証データ）：{calculate_accuracy(model, dataset_valid, device):.3f}')\n",
    "print(f'正解率（評価データ）：{calculate_accuracy(model, dataset_test, device):.3f}')"
   ]
  },
  {
   "cell_type": "code",
   "execution_count": null,
   "metadata": {},
   "outputs": [],
   "source": []
  }
 ],
 "metadata": {
  "kernelspec": {
   "display_name": "Python 3.9.6 64-bit ('3.9.6')",
   "language": "python",
   "name": "python3"
  },
  "language_info": {
   "codemirror_mode": {
    "name": "ipython",
    "version": 3
   },
   "file_extension": ".py",
   "mimetype": "text/x-python",
   "name": "python",
   "nbconvert_exporter": "python",
   "pygments_lexer": "ipython3",
   "version": "3.9.6"
  },
  "orig_nbformat": 4,
  "vscode": {
   "interpreter": {
    "hash": "89f142c5e0f1705deb2db4cf7e0dc678636cb1933d453fbbccc55a26e1a8c8e7"
   }
  }
 },
 "nbformat": 4,
 "nbformat_minor": 2
}
