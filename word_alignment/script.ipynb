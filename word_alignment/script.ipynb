{
 "cells": [
  {
   "cell_type": "code",
   "execution_count": 1,
   "metadata": {},
   "outputs": [
    {
     "name": "stderr",
     "output_type": "stream",
     "text": [
      "'cp' �́A�����R�}���h�܂��͊O���R�}���h�A\n",
      "����\\�ȃv���O�����܂��̓o�b�` �t�@�C���Ƃ��ĔF������Ă��܂���B\n"
     ]
    }
   ],
   "source": [
    "!cp ../mosesdecoder/scripts/training/train-model.perl ."
   ]
  },
  {
   "cell_type": "code",
   "execution_count": null,
   "metadata": {},
   "outputs": [],
   "source": [
    "!train-model.perl --root-dir . --corpus kyoto-train --f en --e ja --alignment grow-diag-final-and --reordering msd-bidirectional-fe \n"
   ]
  }
 ],
 "metadata": {
  "kernelspec": {
   "display_name": "Python 3.8.10 64-bit (windows store)",
   "language": "python",
   "name": "python3"
  },
  "language_info": {
   "codemirror_mode": {
    "name": "ipython",
    "version": 3
   },
   "file_extension": ".py",
   "mimetype": "text/x-python",
   "name": "python",
   "nbconvert_exporter": "python",
   "pygments_lexer": "ipython3",
   "version": "3.8.10"
  },
  "orig_nbformat": 4,
  "vscode": {
   "interpreter": {
    "hash": "f68372a6ddc58e6695c8e23841f5f794d04ba2dd746b99c30bd5f20c03fc7bde"
   }
  }
 },
 "nbformat": 4,
 "nbformat_minor": 2
}
