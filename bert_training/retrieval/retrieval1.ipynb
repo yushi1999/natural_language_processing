{
  "cells": [
    {
      "cell_type": "markdown",
      "metadata": {
        "id": "kYWL0RZH7yMH"
      },
      "source": [
        "https://www.ogis-ri.co.jp/otc/hiroba/technical/similar-document-search/part9.html"
      ]
    },
    {
      "cell_type": "code",
      "execution_count": null,
      "metadata": {
        "colab": {
          "base_uri": "https://localhost:8080/"
        },
        "id": "E93eVfnO8-4B",
        "outputId": "68c2f4ed-9a9a-48c5-c53c-2460432b48ab"
      },
      "outputs": [
        {
          "name": "stdout",
          "output_type": "stream",
          "text": [
            "Looking in indexes: https://pypi.org/simple, https://us-python.pkg.dev/colab-wheels/public/simple/\n",
            "Requirement already satisfied: fugashi in /usr/local/lib/python3.7/dist-packages (1.1.2)\n",
            "Looking in indexes: https://pypi.org/simple, https://us-python.pkg.dev/colab-wheels/public/simple/\n",
            "Requirement already satisfied: ipadic in /usr/local/lib/python3.7/dist-packages (1.0.0)\n",
            "Looking in indexes: https://pypi.org/simple, https://us-python.pkg.dev/colab-wheels/public/simple/\n",
            "Requirement already satisfied: mecab-python3 in /usr/local/lib/python3.7/dist-packages (1.0.5)\n",
            "Looking in indexes: https://pypi.org/simple, https://us-python.pkg.dev/colab-wheels/public/simple/\n",
            "Requirement already satisfied: ginza in /usr/local/lib/python3.7/dist-packages (5.1.2)\n",
            "Collecting ja-ginza\n",
            "  Downloading ja_ginza-5.1.2-py3-none-any.whl (59.1 MB)\n",
            "\u001b[K     |████████████████████████████████| 59.1 MB 131 kB/s \n",
            "\u001b[?25hRequirement already satisfied: SudachiPy<0.7.0,>=0.6.2 in /usr/local/lib/python3.7/dist-packages (from ginza) (0.6.6)\n",
            "Requirement already satisfied: plac>=1.3.3 in /usr/local/lib/python3.7/dist-packages (from ginza) (1.3.5)\n",
            "Requirement already satisfied: SudachiDict-core>=20210802 in /usr/local/lib/python3.7/dist-packages (from ginza) (20220729)\n",
            "Requirement already satisfied: spacy<3.5.0,>=3.2.0 in /usr/local/lib/python3.7/dist-packages (from ginza) (3.4.1)\n",
            "Requirement already satisfied: jinja2 in /usr/local/lib/python3.7/dist-packages (from spacy<3.5.0,>=3.2.0->ginza) (2.11.3)\n",
            "Requirement already satisfied: wasabi<1.1.0,>=0.9.1 in /usr/local/lib/python3.7/dist-packages (from spacy<3.5.0,>=3.2.0->ginza) (0.10.1)\n",
            "Requirement already satisfied: pydantic!=1.8,!=1.8.1,<1.10.0,>=1.7.4 in /usr/local/lib/python3.7/dist-packages (from spacy<3.5.0,>=3.2.0->ginza) (1.9.1)\n",
            "Requirement already satisfied: catalogue<2.1.0,>=2.0.6 in /usr/local/lib/python3.7/dist-packages (from spacy<3.5.0,>=3.2.0->ginza) (2.0.8)\n",
            "Requirement already satisfied: langcodes<4.0.0,>=3.2.0 in /usr/local/lib/python3.7/dist-packages (from spacy<3.5.0,>=3.2.0->ginza) (3.3.0)\n",
            "Requirement already satisfied: numpy>=1.15.0 in /usr/local/lib/python3.7/dist-packages (from spacy<3.5.0,>=3.2.0->ginza) (1.21.6)\n",
            "Requirement already satisfied: thinc<8.2.0,>=8.1.0 in /usr/local/lib/python3.7/dist-packages (from spacy<3.5.0,>=3.2.0->ginza) (8.1.0)\n",
            "Requirement already satisfied: murmurhash<1.1.0,>=0.28.0 in /usr/local/lib/python3.7/dist-packages (from spacy<3.5.0,>=3.2.0->ginza) (1.0.7)\n",
            "Requirement already satisfied: packaging>=20.0 in /usr/local/lib/python3.7/dist-packages (from spacy<3.5.0,>=3.2.0->ginza) (21.3)\n",
            "Requirement already satisfied: setuptools in /usr/local/lib/python3.7/dist-packages (from spacy<3.5.0,>=3.2.0->ginza) (57.4.0)\n",
            "Requirement already satisfied: spacy-loggers<2.0.0,>=1.0.0 in /usr/local/lib/python3.7/dist-packages (from spacy<3.5.0,>=3.2.0->ginza) (1.0.3)\n",
            "Requirement already satisfied: pathy>=0.3.5 in /usr/local/lib/python3.7/dist-packages (from spacy<3.5.0,>=3.2.0->ginza) (0.6.2)\n",
            "Requirement already satisfied: preshed<3.1.0,>=3.0.2 in /usr/local/lib/python3.7/dist-packages (from spacy<3.5.0,>=3.2.0->ginza) (3.0.6)\n",
            "Requirement already satisfied: tqdm<5.0.0,>=4.38.0 in /usr/local/lib/python3.7/dist-packages (from spacy<3.5.0,>=3.2.0->ginza) (4.64.0)\n",
            "Requirement already satisfied: cymem<2.1.0,>=2.0.2 in /usr/local/lib/python3.7/dist-packages (from spacy<3.5.0,>=3.2.0->ginza) (2.0.6)\n",
            "Requirement already satisfied: requests<3.0.0,>=2.13.0 in /usr/local/lib/python3.7/dist-packages (from spacy<3.5.0,>=3.2.0->ginza) (2.23.0)\n",
            "Requirement already satisfied: srsly<3.0.0,>=2.4.3 in /usr/local/lib/python3.7/dist-packages (from spacy<3.5.0,>=3.2.0->ginza) (2.4.4)\n",
            "Requirement already satisfied: typing-extensions<4.2.0,>=3.7.4 in /usr/local/lib/python3.7/dist-packages (from spacy<3.5.0,>=3.2.0->ginza) (4.1.1)\n",
            "Requirement already satisfied: spacy-legacy<3.1.0,>=3.0.9 in /usr/local/lib/python3.7/dist-packages (from spacy<3.5.0,>=3.2.0->ginza) (3.0.9)\n",
            "Requirement already satisfied: typer<0.5.0,>=0.3.0 in /usr/local/lib/python3.7/dist-packages (from spacy<3.5.0,>=3.2.0->ginza) (0.4.2)\n",
            "Requirement already satisfied: zipp>=0.5 in /usr/local/lib/python3.7/dist-packages (from catalogue<2.1.0,>=2.0.6->spacy<3.5.0,>=3.2.0->ginza) (3.8.1)\n",
            "Requirement already satisfied: pyparsing!=3.0.5,>=2.0.2 in /usr/local/lib/python3.7/dist-packages (from packaging>=20.0->spacy<3.5.0,>=3.2.0->ginza) (3.0.9)\n",
            "Requirement already satisfied: smart-open<6.0.0,>=5.2.1 in /usr/local/lib/python3.7/dist-packages (from pathy>=0.3.5->spacy<3.5.0,>=3.2.0->ginza) (5.2.1)\n",
            "Requirement already satisfied: idna<3,>=2.5 in /usr/local/lib/python3.7/dist-packages (from requests<3.0.0,>=2.13.0->spacy<3.5.0,>=3.2.0->ginza) (2.10)\n",
            "Requirement already satisfied: certifi>=2017.4.17 in /usr/local/lib/python3.7/dist-packages (from requests<3.0.0,>=2.13.0->spacy<3.5.0,>=3.2.0->ginza) (2022.6.15)\n",
            "Requirement already satisfied: chardet<4,>=3.0.2 in /usr/local/lib/python3.7/dist-packages (from requests<3.0.0,>=2.13.0->spacy<3.5.0,>=3.2.0->ginza) (3.0.4)\n",
            "Requirement already satisfied: urllib3!=1.25.0,!=1.25.1,<1.26,>=1.21.1 in /usr/local/lib/python3.7/dist-packages (from requests<3.0.0,>=2.13.0->spacy<3.5.0,>=3.2.0->ginza) (1.24.3)\n",
            "Requirement already satisfied: blis<0.8.0,>=0.7.8 in /usr/local/lib/python3.7/dist-packages (from thinc<8.2.0,>=8.1.0->spacy<3.5.0,>=3.2.0->ginza) (0.7.8)\n",
            "Requirement already satisfied: click<9.0.0,>=7.1.1 in /usr/local/lib/python3.7/dist-packages (from typer<0.5.0,>=0.3.0->spacy<3.5.0,>=3.2.0->ginza) (7.1.2)\n",
            "Requirement already satisfied: MarkupSafe>=0.23 in /usr/local/lib/python3.7/dist-packages (from jinja2->spacy<3.5.0,>=3.2.0->ginza) (2.0.1)\n",
            "Installing collected packages: ja-ginza\n",
            "Successfully installed ja-ginza-5.1.2\n"
          ]
        }
      ],
      "source": [
        "!pip install fugashi\n",
        "!pip install ipadic\n",
        "!pip install mecab-python3\n",
        "!pip install ginza\n",
        "!pip install -U ginza ja-ginza"
      ]
    },
    {
      "cell_type": "code",
      "execution_count": null,
      "metadata": {
        "colab": {
          "base_uri": "https://localhost:8080/"
        },
        "id": "xL5O_CEOflr-",
        "outputId": "90823fd1-bc5e-44d7-ffe9-f84a7c29c553"
      },
      "outputs": [
        {
          "name": "stdout",
          "output_type": "stream",
          "text": [
            "Looking in indexes: https://pypi.org/simple, https://us-python.pkg.dev/colab-wheels/public/simple/\n",
            "Requirement already satisfied: scikit-learn in /usr/local/lib/python3.7/dist-packages (1.0.2)\n",
            "Requirement already satisfied: scipy>=1.1.0 in /usr/local/lib/python3.7/dist-packages (from scikit-learn) (1.7.3)\n",
            "Requirement already satisfied: numpy>=1.14.6 in /usr/local/lib/python3.7/dist-packages (from scikit-learn) (1.21.6)\n",
            "Requirement already satisfied: threadpoolctl>=2.0.0 in /usr/local/lib/python3.7/dist-packages (from scikit-learn) (3.1.0)\n",
            "Requirement already satisfied: joblib>=0.11 in /usr/local/lib/python3.7/dist-packages (from scikit-learn) (1.1.0)\n"
          ]
        }
      ],
      "source": [
        "!pip install scikit-learn"
      ]
    },
    {
      "cell_type": "code",
      "execution_count": null,
      "metadata": {
        "id": "DUUsi6TS8GZD"
      },
      "outputs": [],
      "source": [
        "!pip install transformers\n",
        "!pip install sentence_transformers\n",
        "!pip install numpy \n",
        "!pip install spacy "
      ]
    },
    {
      "cell_type": "code",
      "execution_count": null,
      "metadata": {
        "colab": {
          "base_uri": "https://localhost:8080/"
        },
        "id": "b37_kTX47yMK",
        "outputId": "371edb7d-afc4-4776-b5ac-9fa1fac26305"
      },
      "outputs": [
        {
          "name": "stderr",
          "output_type": "stream",
          "text": [
            "Some weights of the model checkpoint at cl-tohoku/bert-base-japanese-whole-word-masking were not used when initializing BertModel: ['cls.predictions.transform.LayerNorm.weight', 'cls.seq_relationship.weight', 'cls.predictions.bias', 'cls.predictions.transform.dense.weight', 'cls.predictions.transform.dense.bias', 'cls.predictions.decoder.weight', 'cls.predictions.transform.LayerNorm.bias', 'cls.seq_relationship.bias']\n",
            "- This IS expected if you are initializing BertModel from the checkpoint of a model trained on another task or with another architecture (e.g. initializing a BertForSequenceClassification model from a BertForPreTraining model).\n",
            "- This IS NOT expected if you are initializing BertModel from the checkpoint of a model that you expect to be exactly identical (initializing a BertForSequenceClassification model from a BertForSequenceClassification model).\n"
          ]
        },
        {
          "name": "stdout",
          "output_type": "stream",
          "text": [
            "[0]:(768,)\n",
            "[1]:(768,)\n"
          ]
        }
      ],
      "source": [
        "import transformers\n",
        "from sentence_transformers import SentenceTransformer\n",
        "from sentence_transformers import models\n",
        "\n",
        "# SentenceBERTはトークナイザにBertTokenizerを決め打ちで使うので、ここで修正\n",
        "transformers.BertTokenizer = transformers.BertJapaneseTokenizer\n",
        "\n",
        "transformer = models.Transformer('cl-tohoku/bert-base-japanese-whole-word-masking')\n",
        "pooling = models.Pooling(transformer.get_word_embedding_dimension(),\n",
        "                         pooling_mode_mean_tokens=True,\n",
        "                         pooling_mode_cls_token=False, \n",
        "                         pooling_mode_max_tokens=False)\n",
        "model=SentenceTransformer(modules=[transformer,pooling])\n",
        "\n",
        "#文章を固定長ベクトルに変換\n",
        "sentences=[\"吾輩は猫である\",\"本日は晴天なり\"]\n",
        "embeddings=model.encode(sentences)\n",
        "\n",
        "for i,embedding in enumerate(embeddings):\n",
        "    print(\"[%d]:%s\"%(i,embedding.shape,))"
      ]
    },
    {
      "cell_type": "code",
      "execution_count": null,
      "metadata": {
        "colab": {
          "base_uri": "https://localhost:8080/"
        },
        "id": "BguD5mXc7yMM",
        "outputId": "d022c7d6-0d44-4666-c8ad-2217aac53b97"
      },
      "outputs": [
        {
          "name": "stdout",
          "output_type": "stream",
          "text": [
            "fatal: destination path 'STAIR-captions' already exists and is not an empty directory.\n",
            "stair_captions_v1.2_train.json\n",
            "stair_captions_v1.2_train_tokenized.json\n",
            "stair_captions_v1.2_val.json\n",
            "stair_captions_v1.2_val_tokenized.json\n",
            "-rw-rw-r-- 1 1005 1006  67M Jan 26  2018 stair_captions_v1.2_train.json\n",
            "-rw-rw-r-- 1 1005 1006 106M Jan 26  2018 stair_captions_v1.2_train_tokenized.json\n",
            "-rw-rw-r-- 1 1005 1006  33M Jan 26  2018 stair_captions_v1.2_val.json\n",
            "-rw-rw-r-- 1 1005 1006  52M Jan 26  2018 stair_captions_v1.2_val_tokenized.json\n"
          ]
        }
      ],
      "source": [
        "#学習データセットの準備\n",
        "!git clone https://github.com/STAIR-Lab-CIT/STAIR-captions\n",
        "!tar zxvf STAIR-captions/stair_captions_v1.2.tar.gz\n",
        "!ls -lh *.json\n",
        "\n",
        "import json\n",
        "with open(\"stair_captions_v1.2_val.json\", \"r\") as f:\n",
        "  json_data_val = json.load(f)\n",
        "with open(\"stair_captions_v1.2_train.json\", \"r\") as f:\n",
        "  json_data_train = json.load(f)"
      ]
    },
    {
      "cell_type": "code",
      "execution_count": null,
      "metadata": {
        "id": "luIa-Q0V7yMN"
      },
      "outputs": [],
      "source": [
        "#dataset は画像ID をキー、画像に付与された5つのキャプションの(ID, 文字列)のタプルのリストを値に持つ辞書\n",
        "#ids はキャプションIDのリスト\n",
        "#captions はキャプション文字列のリスト\n",
        "\n",
        "dataset={}\n",
        "ids,captions=[],[]\n",
        "\n",
        "def build_dataset(dataset,json_data):\n",
        "    num_samples=len(json_data[\"annotations\"])\n",
        "    for i in range(num_samples):\n",
        "        anno=json_data[\"annotations\"][i]\n",
        "        image_id=anno[\"image_id\"]\n",
        "        image_captions = dataset.get(image_id, [])\n",
        "        image_captions.append((anno[\"id\"], anno[\"caption\"]))\n",
        "        ids.append(anno[\"id\"])\n",
        "        captions.append(anno[\"caption\"])\n",
        "        dataset[image_id] = image_captions\n",
        "\n",
        "build_dataset(dataset, json_data_val)\n",
        "build_dataset(dataset, json_data_train)\n",
        "\n",
        "#キャプションID と ids, captions のインデックスの変換テーブルを作る\n",
        "id2idx = {id:idx for idx, id in enumerate(ids)}"
      ]
    },
    {
      "cell_type": "code",
      "execution_count": null,
      "metadata": {
        "colab": {
          "base_uri": "https://localhost:8080/"
        },
        "id": "eCMpg1Te_mul",
        "outputId": "ce54afc2-191a-48e3-df0a-b03c1bb1dde0"
      },
      "outputs": [
        {
          "data": {
            "text/plain": [
              "616435"
            ]
          },
          "execution_count": 17,
          "metadata": {},
          "output_type": "execute_result"
        }
      ],
      "source": [
        "len(captions)"
      ]
    },
    {
      "cell_type": "code",
      "execution_count": null,
      "metadata": {
        "colab": {
          "base_uri": "https://localhost:8080/"
        },
        "id": "vTJgsrA37yMO",
        "outputId": "a4d7b373-04a7-4581-f6f5-c5a83e7cf4da"
      },
      "outputs": [
        {
          "name": "stdout",
          "output_type": "stream",
          "text": [
            "5000\n",
            "10000\n",
            "15000\n",
            "20000\n",
            "25000\n",
            "30000\n",
            "35000\n",
            "40000\n",
            "45000\n",
            "50000\n",
            "55000\n",
            "60000\n",
            "65000\n",
            "70000\n",
            "75000\n",
            "80000\n",
            "85000\n",
            "90000\n",
            "95000\n",
            "100000\n",
            "105000\n",
            "110000\n",
            "115000\n",
            "120000\n",
            "125000\n",
            "130000\n",
            "135000\n",
            "140000\n",
            "145000\n",
            "150000\n",
            "155000\n",
            "160000\n",
            "165000\n",
            "170000\n",
            "175000\n",
            "180000\n",
            "185000\n",
            "190000\n",
            "195000\n",
            "200000\n",
            "205000\n",
            "210000\n",
            "215000\n",
            "220000\n",
            "225000\n",
            "230000\n",
            "235000\n",
            "240000\n",
            "245000\n",
            "250000\n",
            "255000\n",
            "260000\n",
            "265000\n",
            "270000\n",
            "275000\n",
            "280000\n",
            "285000\n",
            "290000\n",
            "295000\n",
            "300000\n",
            "305000\n",
            "310000\n",
            "315000\n",
            "320000\n",
            "325000\n",
            "330000\n",
            "335000\n",
            "340000\n",
            "345000\n",
            "350000\n",
            "355000\n",
            "360000\n",
            "365000\n",
            "370000\n",
            "375000\n",
            "380000\n",
            "385000\n",
            "390000\n",
            "395000\n",
            "400000\n",
            "405000\n",
            "410000\n",
            "415000\n",
            "420000\n",
            "425000\n",
            "430000\n",
            "435000\n",
            "440000\n",
            "445000\n",
            "450000\n",
            "455000\n",
            "460000\n",
            "465000\n",
            "470000\n",
            "475000\n",
            "480000\n",
            "485000\n",
            "490000\n",
            "495000\n",
            "500000\n",
            "505000\n",
            "510000\n",
            "515000\n",
            "520000\n",
            "525000\n",
            "530000\n",
            "535000\n",
            "540000\n",
            "545000\n",
            "550000\n",
            "555000\n",
            "560000\n",
            "565000\n",
            "570000\n",
            "575000\n",
            "580000\n",
            "585000\n",
            "590000\n",
            "595000\n",
            "600000\n",
            "605000\n",
            "610000\n",
            "615000\n"
          ]
        }
      ],
      "source": [
        "import numpy as np\n",
        "import spacy\n",
        "import pkg_resources, imp\n",
        "\n",
        "#キャプション文字列を、単語ベクトルの平均を取ることで文章ベクトルに変換\n",
        "\n",
        "imp.reload(pkg_resources)\n",
        "nlp=spacy.load(\"ja_ginza\")\n",
        "\n",
        "vectors=[]\n",
        "i=0\n",
        "for caption in captions:\n",
        "    i+=1\n",
        "    if i %5000==0:\n",
        "      print(i)\n",
        "    doc=nlp(caption,disable=[\"ner\"])\n",
        "    vectors.append(doc.vector)\n",
        "del nlp"
      ]
    },
    {
      "cell_type": "code",
      "execution_count": null,
      "metadata": {
        "id": "Ak-jjfJE7yMO"
      },
      "outputs": [],
      "source": [
        "from numpy import dot \n",
        "from numpy.linalg import norm \n",
        "from sklearn.metrics.pairwise import cosine_similarity\n",
        "import random\n",
        "# コサイン類似度\n",
        "\n",
        "\n",
        "def similarity(id1, id2):\n",
        "    #a=[vectors[id2idx[id1]]]\n",
        "    #b=[vectors[id2idx[id2]]]\n",
        "    #return (dot(a, b) / (norm(a) * norm(b)))[0][0] \n",
        "    return cosine_similarity([vectors[id2idx[id1]]], [vectors[id2idx[id2]]])[0][0]\n",
        "\n",
        "\n",
        "def make_triplets(dataset, threshold=0.85, seed=7, max_tries=25):\n",
        "    triplets = []\n",
        "    random.seed(seed)\n",
        "    neg_candidate_indices = list(range(len(ids)))\n",
        "    random.shuffle(neg_candidate_indices)\n",
        "\n",
        "    def log(i, str):\n",
        "        if i % 5000 == 0:\n",
        "            print(str)\n",
        "\n",
        "    for i, image_id in enumerate(list(dataset.keys())):\n",
        "        log(i, \"### %d ###\" % (image_id))\n",
        "\n",
        "        # pickup positive pair.\n",
        "        score = 0.0\n",
        "        tries = 0\n",
        "        while score < threshold:\n",
        "            #画像に付与したキャプションからランダムに2つ選んで類似度が閾値以上ならアンカーとポジティブにする\n",
        "            [(id, caption), (id_pos, caption_pos)] = random.sample(dataset[image_id], 2)\n",
        "            score = similarity(id, id_pos)\n",
        "            tries += 1\n",
        "            if tries > max_tries:\n",
        "                break\n",
        "        if score < threshold:\n",
        "            continue\n",
        "        \n",
        "        #pickup negative one.\n",
        "        id_neg=id\n",
        "        current_caption_ids=[id_cap[0] for id_cap in dataset[image_id]]\n",
        "        while id_neg in current_caption_ids:\n",
        "            idx_neg=neg_candidate_indices.pop()\n",
        "            id_neg=ids[idx_neg]\n",
        "        caption_neg=captions[id2idx[id_neg]]\n",
        "        \n",
        "        log(i, \"  pos:  score: %4.2f [%s]:[%s]\" % (score, caption, caption_pos))\n",
        "        log(i, \"  neg:  score: %4.2f [%s]:[%s]\" % (similarity(id, id_neg), caption, caption_neg))\n",
        "        triplets.append({\n",
        "          \"image_id\": image_id,\n",
        "          \"id\": id,\n",
        "          \"id_pos\": id_pos,\n",
        "          \"id_neg\": id_neg,\n",
        "          \"caption\": caption,\n",
        "          \"caption_pos\": caption_pos,\n",
        "          \"caption_neg\": caption_neg  \n",
        "        })\n",
        "    return triplets"
      ]
    },
    {
      "cell_type": "code",
      "execution_count": null,
      "metadata": {
        "colab": {
          "base_uri": "https://localhost:8080/"
        },
        "id": "kwdcp6Z1gPi3",
        "outputId": "05eeac78-b23f-4224-f537-f63d9a18dee6"
      },
      "outputs": [
        {
          "name": "stdout",
          "output_type": "stream",
          "text": [
            "### 580856 ###\n",
            "  pos:  score: 0.86 [夜で、まだオープンしている場所の入り口]:[踏切の近くにワイナリーが開店している]\n",
            "  neg:  score: 0.80 [夜で、まだオープンしている場所の入り口]:[野球選手のフォームの確認をしている]\n",
            "### 235486 ###\n",
            "  pos:  score: 0.91 [2人の女性と1人の男性が食卓を囲んでいる]:[三人の男女がピザと飲み物を囲んで笑っている]\n",
            "  neg:  score: 0.85 [2人の女性と1人の男性が食卓を囲んでいる]:[ストックを使って子どもをひっぱってスキーをしている人]\n",
            "### 133631 ###\n",
            "  pos:  score: 0.97 [柵の手前に土の上に立った象が1頭いる]:[1頭のゾウが柵の内側に立っている]\n",
            "  neg:  score: 0.78 [柵の手前に土の上に立った象が1頭いる]:[スケートボードに乗った少年がジャンプしている]\n",
            "### 467843 ###\n",
            "  pos:  score: 0.89 [メガネをかけた少年がフリスビーを見つめている]:[フリスビーで遊んでいる子どもだ]\n",
            "  neg:  score: 0.91 [メガネをかけた少年がフリスビーを見つめている]:[黒い犬が芝生の上をフリスビーを加えながら走っている]\n",
            "### 423588 ###\n",
            "  pos:  score: 0.93 [雪山の小屋の屋根に登る人と撮影する人]:[雪山の小さな小屋の屋根に、スノーボードを履いた人物が乗り、それを3人の人物が見ている]\n",
            "  neg:  score: 0.73 [雪山の小屋の屋根に登る人と撮影する人]:[とっても大きくてきれいな時計台がある]\n",
            "### 115765 ###\n",
            "  pos:  score: 0.92 [芝生の木立の中で番傘をさした女とギターケースを背負った男が話をしている]:[ギターを背負った男性と、民族衣装を着て傘をさした女性がいる]\n",
            "  neg:  score: 0.84 [芝生の木立の中で番傘をさした女とギターケースを背負った男が話をしている]:[列車が停車している駅のホームに向かって線路を横切っている人がいる]\n",
            "### 538330 ###\n",
            "  pos:  score: 0.92 [マットの上に料理と飲み物が置いてある]:[ランチョンマットの上に、ジョッキに入ったドリンク、皿に盛った肉詰め、ブロッコリー、ニンジンがある]\n",
            "  neg:  score: 0.78 [マットの上に料理と飲み物が置いてある]:[川のほとりを一羽の小さい鳥が歩いている]\n",
            "### 34900 ###\n",
            "  pos:  score: 0.92 [黒い上着に黒い帽子をかぶった男性が本をわきに抱えている]:[グレーのズボンを履いた男性が道路に立っている]\n",
            "  neg:  score: 0.84 [黒い上着に黒い帽子をかぶった男性が本をわきに抱えている]:[沢山のゾウが川を渡り終えて岸に上がろうとしている]\n",
            "### 526459 ###\n",
            "  pos:  score: 0.95 [バスの窓、全てに新聞紙が貼られている]:[塗装されたバスの窓に新聞紙やチラシが貼ってある]\n",
            "  neg:  score: 0.85 [バスの窓、全てに新聞紙が貼られている]:[何も置かれていないし白くて広いバスルーム]\n",
            "### 308522 ###\n",
            "  pos:  score: 0.88 [風船で作ったバナナを抱く猿を持つ人]:[女性がバルーンアートで作られた猿を持っている]\n",
            "  neg:  score: 0.82 [風船で作ったバナナを抱く猿を持つ人]:[海辺の砂浜で凧の糸を手繰って両手を挙げる女]\n",
            "### 133812 ###\n",
            "  pos:  score: 0.93 [建物の前で男性がスケートボードでジャンプをしている]:[古い石造りの建物の前でスケボーの技をする男性]\n",
            "  neg:  score: 0.78 [建物の前で男性がスケートボードでジャンプをしている]:[赤いアメリカンバイクが道路に出たところ]\n",
            "### 186641 ###\n",
            "  pos:  score: 0.94 [小さい羊が柵の外に1匹でている]:[木の柵の近くに白い羊が3匹いる]\n",
            "  neg:  score: 0.79 [小さい羊が柵の外に1匹でている]:[路上に停車している緑と黒のバイク]\n",
            "### 275644 ###\n",
            "  pos:  score: 0.86 [ノートパソコンで複数窓を作って何かを表示している]:[マックブックを使いプログラミングをしている]\n",
            "  neg:  score: 0.75 [ノートパソコンで複数窓を作って何かを表示している]:[白い制服を着た黒人男性を見ている黒いスーツの女性]\n",
            "### 427178 ###\n",
            "  pos:  score: 1.00 [男性がスケートボードをしている]:[男性がスケートボードをしている]\n",
            "  neg:  score: 0.84 [男性がスケートボードをしている]:[緑の服を着た女性がノートパソコンを触っている]\n",
            "### 535138 ###\n",
            "  pos:  score: 0.94 [スケートボードに乗った男性が右手を挙げている]:[晴れた日にスロープをヘルメットをかぶった男性がスケートボードに乗っている]\n",
            "  neg:  score: 0.78 [スケートボードに乗った男性が右手を挙げている]:[野菜柄のテーブルマットの上にさまざまな野菜が乗っている]\n",
            "### 508567 ###\n",
            "  pos:  score: 0.88 [土の上で餌を探している3頭のしまうま]:[シマウマの群れが地面に落ちているものを食べている]\n",
            "  neg:  score: 0.84 [土の上で餌を探している3頭のしまうま]:[テレビのあるリビングで子供たちがソファに座っている]\n",
            "### 391000 ###\n",
            "  pos:  score: 0.92 [テーブルの上にノートパソコンがある]:[机の上に電源の入ったパソコンとスマートフォンが置かれている]\n",
            "  neg:  score: 0.67 [テーブルの上にノートパソコンがある]:[大人のキリンの前に子供のキリンがいる]\n",
            "### 331105 ###\n",
            "  pos:  score: 0.94 [緑色のバナナの房がなっている]:[緑色のバナナが木に生っている]\n",
            "  neg:  score: 0.76 [緑色のバナナの房がなっている]:[雪の上をバイクで競争している]\n",
            "### 175745 ###\n",
            "  pos:  score: 0.85 [スケートボードに乗っている人がいる]:[人々が歩く中、上半身裸のひとりの男がスケートボードに乗っている]\n",
            "  neg:  score: 0.75 [スケートボードに乗っている人がいる]:[4台の洗面台と4枚の鏡が並んでいる]\n",
            "### 243416 ###\n",
            "  pos:  score: 0.92 [傘を差し携帯を持った髪の長い女性がいる]:[女の人が傘を持って携帯を見ている]\n",
            "  neg:  score: 0.78 [傘を差し携帯を持った髪の長い女性がいる]:[野菜が乗ったパンとブロッコリーがお皿の上に乗っている]\n",
            "### 238688 ###\n",
            "  pos:  score: 0.86 [洗面台には歯ブラシが三本ある]:[洗面台の横の壁に鏡が掛けられている]\n",
            "  neg:  score: 0.71 [洗面台には歯ブラシが三本ある]:[男の人がテニスのサーブを打つ瞬間である]\n",
            "### 547315 ###\n",
            "  pos:  score: 0.92 [テーブルにパソコンと飲み物がある]:[パソコンのそばに飲み物がある]\n",
            "  neg:  score: 0.74 [テーブルにパソコンと飲み物がある]:[まだ熟していないバナナがぶら下がっている]\n",
            "### 464347 ###\n",
            "  pos:  score: 0.95 [整頓されたベッドに2つの枕が置かれている]:[ベッドに枕が2つ並んで置いてある]\n",
            "  neg:  score: 0.77 [整頓されたベッドに2つの枕が置かれている]:[数人の消防士が消火活動をしている]\n",
            "### 382707 ###\n",
            "  pos:  score: 0.92 [テニスラケットを持った男性は白い靴下を履いている]:[青いTシャツを着た男性がテニスをしている]\n",
            "  neg:  score: 0.88 [テニスラケットを持った男性は白い靴下を履いている]:[黄色いシャツを着た人がスケートボードをしている]\n",
            "### 505919 ###\n",
            "  pos:  score: 0.92 [3頭のシマウマが放牧されており、その内の2頭は草を食べている]:[シマウマが3頭、原っぱにいる]\n",
            "  neg:  score: 0.88 [3頭のシマウマが放牧されており、その内の2頭は草を食べている]:[パンダの形の巨大な凧の周りに人が集まっている]\n"
          ]
        }
      ],
      "source": [
        "triplets = make_triplets(dataset)"
      ]
    },
    {
      "cell_type": "code",
      "execution_count": null,
      "metadata": {
        "id": "YVfcL-wR7yMP"
      },
      "outputs": [],
      "source": [
        "#triplets = make_triplets(dataset)\n",
        "#学習データの作成を行う\n",
        "from sklearn.model_selection import train_test_split\n",
        "train, dev_test = train_test_split(triplets, train_size=0.8, random_state=4)\n",
        "dev, test = train_test_split(dev_test, train_size=0.5, random_state=7)\n",
        "\n",
        "def to_tsv(fname, triplet):\n",
        "  with open(fname, \"w\") as f:\n",
        "    lines = [\"%s\\t%s\\t%s\" % (example[\"caption\"], example[\"caption_pos\"], example[\"caption_neg\"]) for example in triplet]\n",
        "    f.write(\"\\n\".join(lines)+\"\\n\")\n",
        "\n",
        "to_tsv(\"triplet_train.tsv\", train)\n",
        "to_tsv(\"triplet_dev.tsv\", dev)\n",
        "to_tsv(\"triplet_test.tsv\", test)\n",
        "\n",
        "del triplets\n",
        "del ids\n",
        "del captions\n",
        "del dataset"
      ]
    },
    {
      "cell_type": "code",
      "execution_count": null,
      "metadata": {
        "id": "5C9b7_x5haRu"
      },
      "outputs": [],
      "source": [
        "#パラメータ\n",
        "BATCH_SIZE = 16\n",
        "NUM_EPOCHS = 1\n",
        "EVAL_STEPS = 1000\n",
        "WARMUP_STEPS = int(len(train) // BATCH_SIZE * 0.1) \n",
        "OUTPUT_PATH = \"./sbert_stair\""
      ]
    },
    {
      "cell_type": "code",
      "execution_count": null,
      "metadata": {
        "colab": {
          "base_uri": "https://localhost:8080/"
        },
        "id": "U6876hzkh_d_",
        "outputId": "a1a298ee-8be3-47e7-a2bc-731f4a41f86e"
      },
      "outputs": [
        {
          "name": "stderr",
          "output_type": "stream",
          "text": [
            "Some weights of the model checkpoint at cl-tohoku/bert-base-japanese-whole-word-masking were not used when initializing BertModel: ['cls.predictions.transform.LayerNorm.weight', 'cls.seq_relationship.weight', 'cls.predictions.bias', 'cls.predictions.transform.dense.weight', 'cls.predictions.transform.dense.bias', 'cls.predictions.decoder.weight', 'cls.predictions.transform.LayerNorm.bias', 'cls.seq_relationship.bias']\n",
            "- This IS expected if you are initializing BertModel from the checkpoint of a model trained on another task or with another architecture (e.g. initializing a BertForSequenceClassification model from a BertForPreTraining model).\n",
            "- This IS NOT expected if you are initializing BertModel from the checkpoint of a model that you expect to be exactly identical (initializing a BertForSequenceClassification model from a BertForSequenceClassification model).\n"
          ]
        }
      ],
      "source": [
        "import transformers\n",
        "transformers.BertTokenizer = transformers.BertJapaneseTokenizer\n",
        "\n",
        "from sentence_transformers import SentenceTransformer\n",
        "from sentence_transformers import models\n",
        "from sentence_transformers.losses import TripletDistanceMetric, TripletLoss\n",
        "from sentence_transformers.evaluation import TripletEvaluator\n",
        "from sentence_transformers.readers import TripletReader\n",
        "from sentence_transformers.datasets import SentencesDataset\n",
        "from torch.utils.data import DataLoader\n",
        "\n",
        "transformer = models.Transformer('cl-tohoku/bert-base-japanese-whole-word-masking')\n",
        "\n",
        "pooling = models.Pooling(\n",
        "    transformer.get_word_embedding_dimension(), \n",
        "    pooling_mode_mean_tokens=True, \n",
        "    pooling_mode_cls_token=False, \n",
        "    pooling_mode_max_tokens=False\n",
        ")\n",
        "\n",
        "model = SentenceTransformer(modules=[transformer, pooling])"
      ]
    },
    {
      "cell_type": "code",
      "execution_count": null,
      "metadata": {
        "id": "-FNZguRKiETg"
      },
      "outputs": [],
      "source": [
        "#データセットを読み込むDataLoaderを定義\n",
        "triplet_reader=TripletReader(\".\")\n",
        "train_data=SentencesDataset(triplet_reader.get_examples(\"triplet_train.tsv\"),model=model)\n",
        "train_dataloader=DataLoader(train_data,shuffle=True,batch_size=BATCH_SIZE)"
      ]
    },
    {
      "cell_type": "code",
      "execution_count": null,
      "metadata": {
        "id": "vyjJrHvSjA83"
      },
      "outputs": [],
      "source": [
        "#ロスにはTripletLossを使う\n",
        "train_loss = TripletLoss(model=model, distance_metric=TripletDistanceMetric.EUCLIDEAN, triplet_margin=1)\n",
        "\n",
        "#検証もTripletで行う\n",
        "dev_data = SentencesDataset(triplet_reader.get_examples('triplet_dev.tsv'), model=model)\n",
        "dev_dataloader = DataLoader(dev_data, shuffle=False, batch_size=BATCH_SIZE)\n",
        "#evaluator = TripletEvaluator(dev_dataloader)"
      ]
    },
    {
      "cell_type": "code",
      "execution_count": null,
      "metadata": {
        "colab": {
          "base_uri": "https://localhost:8080/",
          "height": 81,
          "referenced_widgets": [
            "fb0837c0c0864059b07b659527593193",
            "9613c7e7b6924bca9fd4fa26389f78df",
            "8eecc8516016400ab4e7a348a09429ef",
            "e216c1e59d6a4833b1651684cfbf01aa",
            "a6fff0a4fd4046feb37bd40a2ad15b0c",
            "6727cd03526b4e318b18d9e2a1fe1ec2",
            "fe08ef6aa65c4b7987985ba3b7c89c2a",
            "072a6ed3ade34af9bb2eaa0bc9457300",
            "b1232521e4d74e33b1f1940eaaf2ecee",
            "610e9554af47455bb8c5e14c6d8c6bdc",
            "ebf83a9ee57e4a1eaa9bab4ccc31e9e6",
            "be29d81d551d4a728f4c5de4f63cf298",
            "952d1dac411a4707a12e7e437fb2d6a8",
            "24c646c1baa24b5a9852fe92a0a60a4d",
            "7e03809dfc5a47c08c186eadf1e40b62",
            "e981ca673308443c8f45bd286bf329d3",
            "522ffd13a0634fd3bb0672296dfce60e",
            "450e04d6b7f9419e95eec057def7282f",
            "bbf8797737a14612ae0a0580e934e20c",
            "94c403f3d67c4c5eb8ca983015b79c69",
            "91e0715ce0f448908d74a49b9ec81bd6",
            "65a843dc03c54f0ba9879fec220679d4"
          ]
        },
        "id": "X6foVLLHjGWQ",
        "outputId": "1e937472-e875-4d3c-933e-3761a22d5d08"
      },
      "outputs": [
        {
          "data": {
            "application/vnd.jupyter.widget-view+json": {
              "model_id": "fb0837c0c0864059b07b659527593193",
              "version_major": 2,
              "version_minor": 0
            },
            "text/plain": [
              "Epoch:   0%|          | 0/1 [00:00<?, ?it/s]"
            ]
          },
          "metadata": {},
          "output_type": "display_data"
        },
        {
          "data": {
            "application/vnd.jupyter.widget-view+json": {
              "model_id": "be29d81d551d4a728f4c5de4f63cf298",
              "version_major": 2,
              "version_minor": 0
            },
            "text/plain": [
              "Iteration:   0%|          | 0/6141 [00:00<?, ?it/s]"
            ]
          },
          "metadata": {},
          "output_type": "display_data"
        }
      ],
      "source": [
        "#学習ループの実行\n",
        "model.fit(train_objectives=[(train_dataloader, train_loss)],\n",
        "         epochs=NUM_EPOCHS,\n",
        "         evaluation_steps=EVAL_STEPS,\n",
        "         warmup_steps=WARMUP_STEPS,\n",
        "         output_path=OUTPUT_PATH\n",
        "         )"
      ]
    },
    {
      "cell_type": "code",
      "execution_count": null,
      "metadata": {
        "id": "v0DRyVpWl_wQ"
      },
      "outputs": [],
      "source": []
    }
  ],
  "metadata": {
    "accelerator": "GPU",
    "colab": {
      "name": "retrieval1.ipynb",
      "provenance": []
    },
    "gpuClass": "standard",
    "kernelspec": {
      "display_name": "Python 3.9.12 64-bit",
      "language": "python",
      "name": "python3"
    },
    "language_info": {
      "codemirror_mode": {
        "name": "ipython",
        "version": 3
      },
      "file_extension": ".py",
      "mimetype": "text/x-python",
      "name": "python",
      "nbconvert_exporter": "python",
      "pygments_lexer": "ipython3",
      "version": "3.9.12"
    },
    "orig_nbformat": 4,
    "vscode": {
      "interpreter": {
        "hash": "b0fa6594d8f4cbf19f97940f81e996739fb7646882a419484c72d19e05852a7e"
      }
    },
    "widgets": {
      "application/vnd.jupyter.widget-state+json": {
        "072a6ed3ade34af9bb2eaa0bc9457300": {
          "model_module": "@jupyter-widgets/base",
          "model_module_version": "1.2.0",
          "model_name": "LayoutModel",
          "state": {
            "_model_module": "@jupyter-widgets/base",
            "_model_module_version": "1.2.0",
            "_model_name": "LayoutModel",
            "_view_count": null,
            "_view_module": "@jupyter-widgets/base",
            "_view_module_version": "1.2.0",
            "_view_name": "LayoutView",
            "align_content": null,
            "align_items": null,
            "align_self": null,
            "border": null,
            "bottom": null,
            "display": null,
            "flex": null,
            "flex_flow": null,
            "grid_area": null,
            "grid_auto_columns": null,
            "grid_auto_flow": null,
            "grid_auto_rows": null,
            "grid_column": null,
            "grid_gap": null,
            "grid_row": null,
            "grid_template_areas": null,
            "grid_template_columns": null,
            "grid_template_rows": null,
            "height": null,
            "justify_content": null,
            "justify_items": null,
            "left": null,
            "margin": null,
            "max_height": null,
            "max_width": null,
            "min_height": null,
            "min_width": null,
            "object_fit": null,
            "object_position": null,
            "order": null,
            "overflow": null,
            "overflow_x": null,
            "overflow_y": null,
            "padding": null,
            "right": null,
            "top": null,
            "visibility": null,
            "width": null
          }
        },
        "24c646c1baa24b5a9852fe92a0a60a4d": {
          "model_module": "@jupyter-widgets/controls",
          "model_module_version": "1.5.0",
          "model_name": "FloatProgressModel",
          "state": {
            "_dom_classes": [],
            "_model_module": "@jupyter-widgets/controls",
            "_model_module_version": "1.5.0",
            "_model_name": "FloatProgressModel",
            "_view_count": null,
            "_view_module": "@jupyter-widgets/controls",
            "_view_module_version": "1.5.0",
            "_view_name": "ProgressView",
            "bar_style": "success",
            "description": "",
            "description_tooltip": null,
            "layout": "IPY_MODEL_bbf8797737a14612ae0a0580e934e20c",
            "max": 6141,
            "min": 0,
            "orientation": "horizontal",
            "style": "IPY_MODEL_94c403f3d67c4c5eb8ca983015b79c69",
            "value": 6141
          }
        },
        "450e04d6b7f9419e95eec057def7282f": {
          "model_module": "@jupyter-widgets/controls",
          "model_module_version": "1.5.0",
          "model_name": "DescriptionStyleModel",
          "state": {
            "_model_module": "@jupyter-widgets/controls",
            "_model_module_version": "1.5.0",
            "_model_name": "DescriptionStyleModel",
            "_view_count": null,
            "_view_module": "@jupyter-widgets/base",
            "_view_module_version": "1.2.0",
            "_view_name": "StyleView",
            "description_width": ""
          }
        },
        "522ffd13a0634fd3bb0672296dfce60e": {
          "model_module": "@jupyter-widgets/base",
          "model_module_version": "1.2.0",
          "model_name": "LayoutModel",
          "state": {
            "_model_module": "@jupyter-widgets/base",
            "_model_module_version": "1.2.0",
            "_model_name": "LayoutModel",
            "_view_count": null,
            "_view_module": "@jupyter-widgets/base",
            "_view_module_version": "1.2.0",
            "_view_name": "LayoutView",
            "align_content": null,
            "align_items": null,
            "align_self": null,
            "border": null,
            "bottom": null,
            "display": null,
            "flex": null,
            "flex_flow": null,
            "grid_area": null,
            "grid_auto_columns": null,
            "grid_auto_flow": null,
            "grid_auto_rows": null,
            "grid_column": null,
            "grid_gap": null,
            "grid_row": null,
            "grid_template_areas": null,
            "grid_template_columns": null,
            "grid_template_rows": null,
            "height": null,
            "justify_content": null,
            "justify_items": null,
            "left": null,
            "margin": null,
            "max_height": null,
            "max_width": null,
            "min_height": null,
            "min_width": null,
            "object_fit": null,
            "object_position": null,
            "order": null,
            "overflow": null,
            "overflow_x": null,
            "overflow_y": null,
            "padding": null,
            "right": null,
            "top": null,
            "visibility": null,
            "width": null
          }
        },
        "610e9554af47455bb8c5e14c6d8c6bdc": {
          "model_module": "@jupyter-widgets/base",
          "model_module_version": "1.2.0",
          "model_name": "LayoutModel",
          "state": {
            "_model_module": "@jupyter-widgets/base",
            "_model_module_version": "1.2.0",
            "_model_name": "LayoutModel",
            "_view_count": null,
            "_view_module": "@jupyter-widgets/base",
            "_view_module_version": "1.2.0",
            "_view_name": "LayoutView",
            "align_content": null,
            "align_items": null,
            "align_self": null,
            "border": null,
            "bottom": null,
            "display": null,
            "flex": null,
            "flex_flow": null,
            "grid_area": null,
            "grid_auto_columns": null,
            "grid_auto_flow": null,
            "grid_auto_rows": null,
            "grid_column": null,
            "grid_gap": null,
            "grid_row": null,
            "grid_template_areas": null,
            "grid_template_columns": null,
            "grid_template_rows": null,
            "height": null,
            "justify_content": null,
            "justify_items": null,
            "left": null,
            "margin": null,
            "max_height": null,
            "max_width": null,
            "min_height": null,
            "min_width": null,
            "object_fit": null,
            "object_position": null,
            "order": null,
            "overflow": null,
            "overflow_x": null,
            "overflow_y": null,
            "padding": null,
            "right": null,
            "top": null,
            "visibility": null,
            "width": null
          }
        },
        "65a843dc03c54f0ba9879fec220679d4": {
          "model_module": "@jupyter-widgets/controls",
          "model_module_version": "1.5.0",
          "model_name": "DescriptionStyleModel",
          "state": {
            "_model_module": "@jupyter-widgets/controls",
            "_model_module_version": "1.5.0",
            "_model_name": "DescriptionStyleModel",
            "_view_count": null,
            "_view_module": "@jupyter-widgets/base",
            "_view_module_version": "1.2.0",
            "_view_name": "StyleView",
            "description_width": ""
          }
        },
        "6727cd03526b4e318b18d9e2a1fe1ec2": {
          "model_module": "@jupyter-widgets/base",
          "model_module_version": "1.2.0",
          "model_name": "LayoutModel",
          "state": {
            "_model_module": "@jupyter-widgets/base",
            "_model_module_version": "1.2.0",
            "_model_name": "LayoutModel",
            "_view_count": null,
            "_view_module": "@jupyter-widgets/base",
            "_view_module_version": "1.2.0",
            "_view_name": "LayoutView",
            "align_content": null,
            "align_items": null,
            "align_self": null,
            "border": null,
            "bottom": null,
            "display": null,
            "flex": null,
            "flex_flow": null,
            "grid_area": null,
            "grid_auto_columns": null,
            "grid_auto_flow": null,
            "grid_auto_rows": null,
            "grid_column": null,
            "grid_gap": null,
            "grid_row": null,
            "grid_template_areas": null,
            "grid_template_columns": null,
            "grid_template_rows": null,
            "height": null,
            "justify_content": null,
            "justify_items": null,
            "left": null,
            "margin": null,
            "max_height": null,
            "max_width": null,
            "min_height": null,
            "min_width": null,
            "object_fit": null,
            "object_position": null,
            "order": null,
            "overflow": null,
            "overflow_x": null,
            "overflow_y": null,
            "padding": null,
            "right": null,
            "top": null,
            "visibility": null,
            "width": null
          }
        },
        "7e03809dfc5a47c08c186eadf1e40b62": {
          "model_module": "@jupyter-widgets/controls",
          "model_module_version": "1.5.0",
          "model_name": "HTMLModel",
          "state": {
            "_dom_classes": [],
            "_model_module": "@jupyter-widgets/controls",
            "_model_module_version": "1.5.0",
            "_model_name": "HTMLModel",
            "_view_count": null,
            "_view_module": "@jupyter-widgets/controls",
            "_view_module_version": "1.5.0",
            "_view_name": "HTMLView",
            "description": "",
            "description_tooltip": null,
            "layout": "IPY_MODEL_91e0715ce0f448908d74a49b9ec81bd6",
            "placeholder": "​",
            "style": "IPY_MODEL_65a843dc03c54f0ba9879fec220679d4",
            "value": " 6141/6141 [26:39&lt;00:00,  3.94it/s]"
          }
        },
        "8eecc8516016400ab4e7a348a09429ef": {
          "model_module": "@jupyter-widgets/controls",
          "model_module_version": "1.5.0",
          "model_name": "FloatProgressModel",
          "state": {
            "_dom_classes": [],
            "_model_module": "@jupyter-widgets/controls",
            "_model_module_version": "1.5.0",
            "_model_name": "FloatProgressModel",
            "_view_count": null,
            "_view_module": "@jupyter-widgets/controls",
            "_view_module_version": "1.5.0",
            "_view_name": "ProgressView",
            "bar_style": "success",
            "description": "",
            "description_tooltip": null,
            "layout": "IPY_MODEL_072a6ed3ade34af9bb2eaa0bc9457300",
            "max": 1,
            "min": 0,
            "orientation": "horizontal",
            "style": "IPY_MODEL_b1232521e4d74e33b1f1940eaaf2ecee",
            "value": 1
          }
        },
        "91e0715ce0f448908d74a49b9ec81bd6": {
          "model_module": "@jupyter-widgets/base",
          "model_module_version": "1.2.0",
          "model_name": "LayoutModel",
          "state": {
            "_model_module": "@jupyter-widgets/base",
            "_model_module_version": "1.2.0",
            "_model_name": "LayoutModel",
            "_view_count": null,
            "_view_module": "@jupyter-widgets/base",
            "_view_module_version": "1.2.0",
            "_view_name": "LayoutView",
            "align_content": null,
            "align_items": null,
            "align_self": null,
            "border": null,
            "bottom": null,
            "display": null,
            "flex": null,
            "flex_flow": null,
            "grid_area": null,
            "grid_auto_columns": null,
            "grid_auto_flow": null,
            "grid_auto_rows": null,
            "grid_column": null,
            "grid_gap": null,
            "grid_row": null,
            "grid_template_areas": null,
            "grid_template_columns": null,
            "grid_template_rows": null,
            "height": null,
            "justify_content": null,
            "justify_items": null,
            "left": null,
            "margin": null,
            "max_height": null,
            "max_width": null,
            "min_height": null,
            "min_width": null,
            "object_fit": null,
            "object_position": null,
            "order": null,
            "overflow": null,
            "overflow_x": null,
            "overflow_y": null,
            "padding": null,
            "right": null,
            "top": null,
            "visibility": null,
            "width": null
          }
        },
        "94c403f3d67c4c5eb8ca983015b79c69": {
          "model_module": "@jupyter-widgets/controls",
          "model_module_version": "1.5.0",
          "model_name": "ProgressStyleModel",
          "state": {
            "_model_module": "@jupyter-widgets/controls",
            "_model_module_version": "1.5.0",
            "_model_name": "ProgressStyleModel",
            "_view_count": null,
            "_view_module": "@jupyter-widgets/base",
            "_view_module_version": "1.2.0",
            "_view_name": "StyleView",
            "bar_color": null,
            "description_width": ""
          }
        },
        "952d1dac411a4707a12e7e437fb2d6a8": {
          "model_module": "@jupyter-widgets/controls",
          "model_module_version": "1.5.0",
          "model_name": "HTMLModel",
          "state": {
            "_dom_classes": [],
            "_model_module": "@jupyter-widgets/controls",
            "_model_module_version": "1.5.0",
            "_model_name": "HTMLModel",
            "_view_count": null,
            "_view_module": "@jupyter-widgets/controls",
            "_view_module_version": "1.5.0",
            "_view_name": "HTMLView",
            "description": "",
            "description_tooltip": null,
            "layout": "IPY_MODEL_522ffd13a0634fd3bb0672296dfce60e",
            "placeholder": "​",
            "style": "IPY_MODEL_450e04d6b7f9419e95eec057def7282f",
            "value": "Iteration: 100%"
          }
        },
        "9613c7e7b6924bca9fd4fa26389f78df": {
          "model_module": "@jupyter-widgets/controls",
          "model_module_version": "1.5.0",
          "model_name": "HTMLModel",
          "state": {
            "_dom_classes": [],
            "_model_module": "@jupyter-widgets/controls",
            "_model_module_version": "1.5.0",
            "_model_name": "HTMLModel",
            "_view_count": null,
            "_view_module": "@jupyter-widgets/controls",
            "_view_module_version": "1.5.0",
            "_view_name": "HTMLView",
            "description": "",
            "description_tooltip": null,
            "layout": "IPY_MODEL_6727cd03526b4e318b18d9e2a1fe1ec2",
            "placeholder": "​",
            "style": "IPY_MODEL_fe08ef6aa65c4b7987985ba3b7c89c2a",
            "value": "Epoch: 100%"
          }
        },
        "a6fff0a4fd4046feb37bd40a2ad15b0c": {
          "model_module": "@jupyter-widgets/base",
          "model_module_version": "1.2.0",
          "model_name": "LayoutModel",
          "state": {
            "_model_module": "@jupyter-widgets/base",
            "_model_module_version": "1.2.0",
            "_model_name": "LayoutModel",
            "_view_count": null,
            "_view_module": "@jupyter-widgets/base",
            "_view_module_version": "1.2.0",
            "_view_name": "LayoutView",
            "align_content": null,
            "align_items": null,
            "align_self": null,
            "border": null,
            "bottom": null,
            "display": null,
            "flex": null,
            "flex_flow": null,
            "grid_area": null,
            "grid_auto_columns": null,
            "grid_auto_flow": null,
            "grid_auto_rows": null,
            "grid_column": null,
            "grid_gap": null,
            "grid_row": null,
            "grid_template_areas": null,
            "grid_template_columns": null,
            "grid_template_rows": null,
            "height": null,
            "justify_content": null,
            "justify_items": null,
            "left": null,
            "margin": null,
            "max_height": null,
            "max_width": null,
            "min_height": null,
            "min_width": null,
            "object_fit": null,
            "object_position": null,
            "order": null,
            "overflow": null,
            "overflow_x": null,
            "overflow_y": null,
            "padding": null,
            "right": null,
            "top": null,
            "visibility": null,
            "width": null
          }
        },
        "b1232521e4d74e33b1f1940eaaf2ecee": {
          "model_module": "@jupyter-widgets/controls",
          "model_module_version": "1.5.0",
          "model_name": "ProgressStyleModel",
          "state": {
            "_model_module": "@jupyter-widgets/controls",
            "_model_module_version": "1.5.0",
            "_model_name": "ProgressStyleModel",
            "_view_count": null,
            "_view_module": "@jupyter-widgets/base",
            "_view_module_version": "1.2.0",
            "_view_name": "StyleView",
            "bar_color": null,
            "description_width": ""
          }
        },
        "bbf8797737a14612ae0a0580e934e20c": {
          "model_module": "@jupyter-widgets/base",
          "model_module_version": "1.2.0",
          "model_name": "LayoutModel",
          "state": {
            "_model_module": "@jupyter-widgets/base",
            "_model_module_version": "1.2.0",
            "_model_name": "LayoutModel",
            "_view_count": null,
            "_view_module": "@jupyter-widgets/base",
            "_view_module_version": "1.2.0",
            "_view_name": "LayoutView",
            "align_content": null,
            "align_items": null,
            "align_self": null,
            "border": null,
            "bottom": null,
            "display": null,
            "flex": null,
            "flex_flow": null,
            "grid_area": null,
            "grid_auto_columns": null,
            "grid_auto_flow": null,
            "grid_auto_rows": null,
            "grid_column": null,
            "grid_gap": null,
            "grid_row": null,
            "grid_template_areas": null,
            "grid_template_columns": null,
            "grid_template_rows": null,
            "height": null,
            "justify_content": null,
            "justify_items": null,
            "left": null,
            "margin": null,
            "max_height": null,
            "max_width": null,
            "min_height": null,
            "min_width": null,
            "object_fit": null,
            "object_position": null,
            "order": null,
            "overflow": null,
            "overflow_x": null,
            "overflow_y": null,
            "padding": null,
            "right": null,
            "top": null,
            "visibility": null,
            "width": null
          }
        },
        "be29d81d551d4a728f4c5de4f63cf298": {
          "model_module": "@jupyter-widgets/controls",
          "model_module_version": "1.5.0",
          "model_name": "HBoxModel",
          "state": {
            "_dom_classes": [],
            "_model_module": "@jupyter-widgets/controls",
            "_model_module_version": "1.5.0",
            "_model_name": "HBoxModel",
            "_view_count": null,
            "_view_module": "@jupyter-widgets/controls",
            "_view_module_version": "1.5.0",
            "_view_name": "HBoxView",
            "box_style": "",
            "children": [
              "IPY_MODEL_952d1dac411a4707a12e7e437fb2d6a8",
              "IPY_MODEL_24c646c1baa24b5a9852fe92a0a60a4d",
              "IPY_MODEL_7e03809dfc5a47c08c186eadf1e40b62"
            ],
            "layout": "IPY_MODEL_e981ca673308443c8f45bd286bf329d3"
          }
        },
        "e216c1e59d6a4833b1651684cfbf01aa": {
          "model_module": "@jupyter-widgets/controls",
          "model_module_version": "1.5.0",
          "model_name": "HTMLModel",
          "state": {
            "_dom_classes": [],
            "_model_module": "@jupyter-widgets/controls",
            "_model_module_version": "1.5.0",
            "_model_name": "HTMLModel",
            "_view_count": null,
            "_view_module": "@jupyter-widgets/controls",
            "_view_module_version": "1.5.0",
            "_view_name": "HTMLView",
            "description": "",
            "description_tooltip": null,
            "layout": "IPY_MODEL_610e9554af47455bb8c5e14c6d8c6bdc",
            "placeholder": "​",
            "style": "IPY_MODEL_ebf83a9ee57e4a1eaa9bab4ccc31e9e6",
            "value": " 1/1 [26:39&lt;00:00, 1599.64s/it]"
          }
        },
        "e981ca673308443c8f45bd286bf329d3": {
          "model_module": "@jupyter-widgets/base",
          "model_module_version": "1.2.0",
          "model_name": "LayoutModel",
          "state": {
            "_model_module": "@jupyter-widgets/base",
            "_model_module_version": "1.2.0",
            "_model_name": "LayoutModel",
            "_view_count": null,
            "_view_module": "@jupyter-widgets/base",
            "_view_module_version": "1.2.0",
            "_view_name": "LayoutView",
            "align_content": null,
            "align_items": null,
            "align_self": null,
            "border": null,
            "bottom": null,
            "display": null,
            "flex": null,
            "flex_flow": null,
            "grid_area": null,
            "grid_auto_columns": null,
            "grid_auto_flow": null,
            "grid_auto_rows": null,
            "grid_column": null,
            "grid_gap": null,
            "grid_row": null,
            "grid_template_areas": null,
            "grid_template_columns": null,
            "grid_template_rows": null,
            "height": null,
            "justify_content": null,
            "justify_items": null,
            "left": null,
            "margin": null,
            "max_height": null,
            "max_width": null,
            "min_height": null,
            "min_width": null,
            "object_fit": null,
            "object_position": null,
            "order": null,
            "overflow": null,
            "overflow_x": null,
            "overflow_y": null,
            "padding": null,
            "right": null,
            "top": null,
            "visibility": null,
            "width": null
          }
        },
        "ebf83a9ee57e4a1eaa9bab4ccc31e9e6": {
          "model_module": "@jupyter-widgets/controls",
          "model_module_version": "1.5.0",
          "model_name": "DescriptionStyleModel",
          "state": {
            "_model_module": "@jupyter-widgets/controls",
            "_model_module_version": "1.5.0",
            "_model_name": "DescriptionStyleModel",
            "_view_count": null,
            "_view_module": "@jupyter-widgets/base",
            "_view_module_version": "1.2.0",
            "_view_name": "StyleView",
            "description_width": ""
          }
        },
        "fb0837c0c0864059b07b659527593193": {
          "model_module": "@jupyter-widgets/controls",
          "model_module_version": "1.5.0",
          "model_name": "HBoxModel",
          "state": {
            "_dom_classes": [],
            "_model_module": "@jupyter-widgets/controls",
            "_model_module_version": "1.5.0",
            "_model_name": "HBoxModel",
            "_view_count": null,
            "_view_module": "@jupyter-widgets/controls",
            "_view_module_version": "1.5.0",
            "_view_name": "HBoxView",
            "box_style": "",
            "children": [
              "IPY_MODEL_9613c7e7b6924bca9fd4fa26389f78df",
              "IPY_MODEL_8eecc8516016400ab4e7a348a09429ef",
              "IPY_MODEL_e216c1e59d6a4833b1651684cfbf01aa"
            ],
            "layout": "IPY_MODEL_a6fff0a4fd4046feb37bd40a2ad15b0c"
          }
        },
        "fe08ef6aa65c4b7987985ba3b7c89c2a": {
          "model_module": "@jupyter-widgets/controls",
          "model_module_version": "1.5.0",
          "model_name": "DescriptionStyleModel",
          "state": {
            "_model_module": "@jupyter-widgets/controls",
            "_model_module_version": "1.5.0",
            "_model_name": "DescriptionStyleModel",
            "_view_count": null,
            "_view_module": "@jupyter-widgets/base",
            "_view_module_version": "1.2.0",
            "_view_name": "StyleView",
            "description_width": ""
          }
        }
      }
    }
  },
  "nbformat": 4,
  "nbformat_minor": 0
}
